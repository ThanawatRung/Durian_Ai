{
 "cells": [
  {
   "cell_type": "code",
   "execution_count": 16,
   "metadata": {},
   "outputs": [
    {
     "name": "stdout",
     "output_type": "stream",
     "text": [
      "Files renamed successfully!\n"
     ]
    }
   ],
   "source": [
    "import os\n",
    "\n",
    "folder_path = \"/Users/nut/Documents/GitHub/Durian_Ai/dataset_durian/Agal_Spot\"\n",
    "\n",
    "for idx, filename in enumerate(os.listdir(folder_path)):\n",
    "    old_file = os.path.join(folder_path, filename)\n",
    "    new_filename = f\"Algal_Spot_{idx}{os.path.splitext(filename)[1]}\"  # Keep original extension\n",
    "    new_file = os.path.join(folder_path, new_filename)\n",
    "\n",
    "    # Rename the file\n",
    "    os.rename(old_file, new_file)\n",
    "\n",
    "print(\"Files renamed successfully!\")\n"
   ]
  },
  {
   "cell_type": "code",
   "execution_count": 9,
   "metadata": {},
   "outputs": [
    {
     "name": "stdout",
     "output_type": "stream",
     "text": [
      "Conversion and deletion completed!\n"
     ]
    }
   ],
   "source": [
    "import os\n",
    "from PIL import Image\n",
    "import pyheif\n",
    "\n",
    "def convert_heic_to_jpg(heic_file, output_path):\n",
    "    heif_file = pyheif.read(heic_file)  # Read HEIC file\n",
    "    image = Image.frombytes(\n",
    "        heif_file.mode, \n",
    "        heif_file.size, \n",
    "        heif_file.data,\n",
    "        \"raw\",\n",
    "        heif_file.mode,\n",
    "        heif_file.stride,\n",
    "    )\n",
    "    image.save(output_path, \"JPEG\")  # Save as JPEG\n",
    "\n",
    "# Convert each HEIC image to JPEG and then delete the original HEIC file\n",
    "for filename in os.listdir(folder_path):\n",
    "    if filename.lower().endswith(\".heic\"):\n",
    "        heic_file = os.path.join(folder_path, filename)\n",
    "        jpg_file = os.path.splitext(heic_file)[0] + \".jpg\"\n",
    "        \n",
    "        # Convert the HEIC file to JPEG\n",
    "        convert_heic_to_jpg(heic_file, jpg_file)\n",
    "        \n",
    "        # Delete the original HEIC file\n",
    "        os.remove(heic_file)\n",
    "        print(f\"Converted and deleted: {filename}\")\n",
    "\n",
    "print(\"Conversion and deletion completed!\")\n"
   ]
  }
 ],
 "metadata": {
  "kernelspec": {
   "display_name": "Python 3",
   "language": "python",
   "name": "python3"
  },
  "language_info": {
   "codemirror_mode": {
    "name": "ipython",
    "version": 3
   },
   "file_extension": ".py",
   "mimetype": "text/x-python",
   "name": "python",
   "nbconvert_exporter": "python",
   "pygments_lexer": "ipython3",
   "version": "3.10.10"
  }
 },
 "nbformat": 4,
 "nbformat_minor": 2
}
