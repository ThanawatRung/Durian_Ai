{
 "cells": [
  {
   "cell_type": "code",
   "execution_count": 129,
   "id": "582d0bb8-9905-4918-acde-0d3f34f28431",
   "metadata": {},
   "outputs": [],
   "source": [
    "import torch\n",
    "import torch.nn as nn\n",
    "import torch.optim as optim\n",
    "from torch.utils.data import DataLoader, Dataset\n",
    "import torchvision\n",
    "from torchvision import models, transforms, datasets\n",
    "from sklearn.metrics import accuracy_score, f1_score, confusion_matrix ,precision_score, recall_score\n",
    "from PIL import Image\n",
    "import numpy as np\n",
    "import cv2\n",
    "import os\n",
    "import random\n",
    "import requests\n",
    "from pathlib import Path\n",
    "import zipfile\n",
    "from PIL import Image, ImageDraw\n",
    "from pathlib import Path\n",
    "import seaborn as sns\n",
    "import shutil\n",
    "from bs4 import BeautifulSoup\n",
    "import time"
   ]
  },
  {
   "cell_type": "markdown",
   "id": "b8d72ac1-d465-424b-87df-2bc279bcff50",
   "metadata": {},
   "source": [
    "# 1.Statement Problem"
   ]
  },
  {
   "cell_type": "markdown",
   "id": "557d5d1b-0964-4534-b5fc-f9c4ea1fb1b6",
   "metadata": {},
   "source": [
    "## 1.1 Problem and Pain point\n",
    "\n",
    "\n",
    "<p>ทุเรียนเป็นหนึ่งในพืชผลทางการเกษตรที่มีความสำคัญกับประเทศไทยเป็นอย่างมาก แต่ในการปลูกทุเรียนนั้นจะพบปัญหามากมายที่ส่งผลต่อผลผลิตหรือการออกผลของทุเรียน และปัญหาที่สำคัญที่สุดคือการระบาดของโรคทางใบของทุเรียนอันเนื่องมาจากเชื้อรา</p>\n",
    "\n",
    "<p>เชื้อราที่ระบาดในทุเรียนนั้นมีหลากหลายชนิด ได้แก่ โรคใบจุด โรคใบจุดสาหร่ายหรือใบจุดสนิม และโรคใบไหม้ โรคแต่ละโรคจะมีลักษณะแตกต่างกันแต่จะสร้างความเสียหายให้ใบทุเรียนแบบเดียวกันนั่นคือการเกาะอาศัยบนใบของทุเรียนและแย่งสารอาหารเพื่อใช้ในการเจริญเติบโตและลดพื้นที่สีเขียวซึ่งใช้ในการสังเคราะห์แสงเพื่อสร้างอาหารของต้นทุเรียน หากการระบาดเกิดขึ้นทั่วทั้งทรงพุ่มของต้นทุเรียนในท้ายที่สุดก็อาจจะทำให้ต้นทุเรียนตายได้</p>\n",
    "\n",
    "<p>เพื่อป้องกันปัญหาดังกล่าว หากพบเห็นการระบาดตั้งแต่ต้นจำเป็นต้องจัดการให้เร็วที่สุดเพื่อป้องกันการระบาดของโรคทั่วทั้งทรงพุ่ม โดยโรคทางใบแต่ละโรคที่ระบาดจำเป็นต้องใช้วิธีการที่ถูกต้องเพื่อป้องกันการระบาดได้อย่างมีประสิทธิภาพ การจำแนกโรคจึงถือเป็นเรื่องที่สำคัญมาก ต้องอาศัยประสบการณ์และความชำนาญ แม้กระทั่งชาวสวนทุเรียนเองยังมีโอกาสจำแนกได้ผิดพลาด โดยเฉพาะโรคใบจุด กับโรคใบจุดสาหร่ายซึ่งมีความคล้ายคลึงกันมาก</p>\n",
    "\n",
    "<p>ทางคณะผู้จัดทำจึงมีความคิดที่จะพัฒนา “หมอทุเรียน” Line Chat Bot ที่สามารถจำแนกโรคทางใบของทุเรียนได้อย่างสะดวกและแม่นยำผ่านกระบวนการ Image Processing ร่วมกับเทคโนโลยีปัญญาประดิษฐ์ โดยโมเดลที่ใช้ในการจำแนกโรคทางใบของทุเรียนคือโมเดล Convolutional Neural Network (CNN) และใช้เทคนิค Transfer Learning จากโมเดล Efficientnet B0 และ Adam optimizer และมีการทำ Binary Classification ด้วยโมเดล Convolutional Neural Network (CNN) และใช้เทคนิค Transfer Learning จากโมเดล Efficientnet B0</p>\n"
   ]
  },
  {
   "cell_type": "markdown",
   "id": "97d51ead-cdfe-44a8-9080-d6e7fbad8754",
   "metadata": {},
   "source": [
    "## 1.2 Related work\n",
    "จากการศึกษางานวิจัย Durian Disease Classification Using Transfer Learning For Disease Management System (Marizuana ,2023)จะพบว่าโมเดล ResNet-9 สามารถตรวจจับโรคใบทุเรียนได้อย่างถูกต้องถึง 99.1% เมื่อใช้เทคนิค Adam optimizer \n",
    "\n",
    "จากผลลัพธ์ของงานวิจัยที่ศึกษจะพบว่าสามารถวิเคราะห์ว่าเป็นใบทุเรียนได้อย่างถูกต้อง แต่หากผู้คนที่นำ Model ตัวนี้ไปใช้วิเคราะห์สิ่งของอื่นๆที่ไม่ใช่ใบทุเรียนอาจเกิดข้อผิดพลาดในการวิเคราะห์หรือไม่ \n",
    "\n",
    "**Reference**\n",
    "- https://www.researchgate.net/publication/377682437_DURIAN_DISEASE_CLASSIFICATION_USING_TRANSFER_LEARNING_FOR_DISEASE_MANAGEMENT_SYSTEM\n",
    "- https://openagriculturejournal.com/VOLUME/18/ELOCATOR/e18743315305194/FULLTEXT/\n",
    "- https://www.semanticscholar.org/paper/Plant-leaf-disease-classification-using-deep-model-Atila-U%C3%A7ar/7a96cf43dc8b99e4da527ec645931a0033effc67\n",
    "- https://www.sciencedirect.com/science/article/pii/S1574954120301321?casa_token=382NVKnOwRMAAAAA:dNrhoiSe7D8gq39fO5iKrhmPbSRjzPv5lVrf5S-jJPBTV28BXgdArFGq8PudrEhPjPJfinvTLA\n"
   ]
  },
  {
   "cell_type": "markdown",
   "id": "4203e6fb-ad37-4986-8f01-598c0e6e5e4f",
   "metadata": {},
   "source": [
    "## 1.3 Unique method\n",
    "- ในการสร้าง Model ครั้งนี้ใช้ dataset ทั้งหมด 1402 ภาพ โดยใบทุเรียนที่ใช้ใน dataset จะเป็นใบทุเรียนพันธุ์หมอนทอง ซึ่งผู้จัดทำได้ลงพื้นที่เพื่อเก็บข้อมูลสวนทุเรียนเจ๊โอ๊ะ อ.วังจันทร์ จ.ระยอง\n",
    "- จากงานวิจัยข้างต้นเกี่ยวกับการวิเคราะห์โรคทางใบทุเรียนจะมีการใช้การเรียนรู้แบบ Transfer Learning โดยใช้ Model ResNet-9 และ VGG-19 ซึ่งทางผู้จัดทำได้ใช้ วิธีการ Transfer Learning เช่นเดียวกับงานวิจัยแต่ได้ลองเปลี่ยนModelเป็น Efficient Net ซึ่งพบว่ามีงานวิจัยที่ใช้ Model ตัวนี้ในการวิเคราะห์โรคทางใบพืชได้ดีกว่าModelตัวอื่นๆ ทางผู้จัดทำจึงลองนำข้อดีของModelตัวนี้มาลองปรับใช้กับการวิเคราะห์โรคทางใบทุเรียน\n",
    "- ทางผู้จัดทำได้แก้ปัญหาการวิเคราะห์สิ่งของที่ไม่ใช่ใบทุเรียนโดยการทำ Model อีก1ตัวขึ้นมาเพื่อวิเคราะห์ว่าภาพที่ถ่ายเป็นใบทุเรียนหรือไม่ ก่อนที่จะส่งให้ Model วิเคราะห์โรคทางใบทุเรียน"
   ]
  },
  {
   "cell_type": "markdown",
   "id": "2d80b00a-77d8-43ca-ac85-a27615393efb",
   "metadata": {},
   "source": [
    "# 2.Data Preparation"
   ]
  },
  {
   "cell_type": "markdown",
   "id": "3c746dd9-763c-4409-9dc2-e5f8998715c6",
   "metadata": {},
   "source": [
    "## 2.1 Data source\n",
    "- ข้อมูลภาพของโรคทางใบทุเรียนมาจากการลงพื้นที่เพื่อไปเก็บภาพที่สวนทุเรียนในจังหวัดระยอง\n",
    "- ลิ้งค์ข้อมูลภาพถ่าย:https://drive.google.com/drive/folders/1gzLkERv8j7eObMGhgltvhjmPMCOAsqtJ\n",
    "- ลิ้งค์ข้อมูลภาพถ่าย:https://github.com/ThanawatRung/Durian_Ai.git"
   ]
  },
  {
   "cell_type": "markdown",
   "id": "ee259355-95f8-475e-b9a6-3a6556f14b28",
   "metadata": {},
   "source": [
    "## 2.2 Data Cleaning\n",
    "- สำหรับกระบวนการcleaningข้อมูล ทางพวกเราได้ทำการจำแนกภาพของโรคในใบทุเรียนแต่ละชนิดแยกไว้ในแต่ละ Folder ตามที่อยู่ในลิ้งค์เพื่อนำข้อมูลมาทำการแบ่งอัตราส่วนแต่ละโรคให้เป็นข้อมูลที่ใช้ในการ train 70% และ test 30% (การทำดังกล่าวจะช่วยให้ภาพของแต่ละโรคถูกแบ่งในอัตราส่วนที่เท่ากันเนื่องจากแต่ละโรคมีไฟล์ภาพข้อมูลที่ไม่เท่ากัน)"
   ]
  },
  {
   "cell_type": "code",
   "execution_count": 29,
   "id": "c4e224cb-6218-48b1-990d-b74d1180f9c6",
   "metadata": {},
   "outputs": [
    {
     "name": "stdout",
     "output_type": "stream",
     "text": [
      "data/train directory exists.\n",
      "data/test directory exists.\n"
     ]
    }
   ],
   "source": [
    "#สร้าง path ข้อมูลสำหรับการเก็บข้อมูลที่จะใช้ในการ train และ test\n",
    "data_path = Path(\"data/\")\n",
    "image_path_train = data_path / \"train\"\n",
    "image_path_test = data_path / \"test\"\n",
    "\n",
    "if image_path_train.is_dir():\n",
    "  print(f\"{image_path_train} directory exists.\")\n",
    "else:\n",
    "  print(f\"Did not find {image_path_train} directory, creating one...\")\n",
    "  image_path_train.mkdir(parents=True, exist_ok=True)\n",
    "\n",
    "if image_path_test.is_dir():\n",
    "  print(f\"{image_path_test} directory exists.\")\n",
    "else:\n",
    "  print(f\"Did not find {image_path_test} directory, creating one...\")\n",
    "  image_path_test.mkdir(parents=True, exist_ok=True)"
   ]
  },
  {
   "cell_type": "code",
   "execution_count": 14,
   "id": "de4a814a-deb5-4de8-9ade-b5e0ad36aaa0",
   "metadata": {},
   "outputs": [
    {
     "name": "stdout",
     "output_type": "stream",
     "text": [
      "zsh:1: command not found: apt-get\n",
      "\u001b[33mhint: Using 'master' as the name for the initial branch. This default branch name\u001b[m\n",
      "\u001b[33mhint: is subject to change. To configure the initial branch name to use in all\u001b[m\n",
      "\u001b[33mhint: of your new repositories, which will suppress this warning, call:\u001b[m\n",
      "\u001b[33mhint: \u001b[m\n",
      "\u001b[33mhint: \tgit config --global init.defaultBranch <name>\u001b[m\n",
      "\u001b[33mhint: \u001b[m\n",
      "\u001b[33mhint: Names commonly chosen instead of 'master' are 'main', 'trunk' and\u001b[m\n",
      "\u001b[33mhint: 'development'. The just-created branch can be renamed via this command:\u001b[m\n",
      "\u001b[33mhint: \u001b[m\n",
      "\u001b[33mhint: \tgit branch -m <name>\u001b[m\n",
      "Initialized empty Git repository in /Users/nut/Documents/AiDurian/.git/\n",
      "remote: Enumerating objects: 3980, done.\u001b[K\n",
      "remote: Counting objects: 100% (434/434), done.\u001b[K\n",
      "remote: Compressing objects: 100% (427/427), done.\u001b[K\n",
      "remote: Total 3980 (delta 11), reused 429 (delta 7), pack-reused 3546 (from 1)\u001b[K\n",
      "Receiving objects: 100% (3980/3980), 2.82 GiB | 13.70 MiB/s, done.\n",
      "Resolving deltas: 100% (41/41), done.\n",
      "From https://github.com/ThanawatRung/Durian_Ai\n",
      " * branch            main       -> FETCH_HEAD\n",
      " * [new branch]      main       -> origin/main\n",
      "Updating files: 100% (1845/1845), done.\n"
     ]
    }
   ],
   "source": [
    "#ดึงข้อมูลจากไฟล์ที่อัพไว้บนGithub(เป็นfolderเดียวกันกับในลิ้งค์)\n",
    "!apt-get install git\n",
    "!git init\n",
    "!git remote add origin https://github.com/ThanawatRung/Durian_Ai.git\n",
    "!git config core.sparseCheckout true\n",
    "!echo \"dataset_durian/\" >> .git/info/sparse-checkout\n",
    "!git pull origin main"
   ]
  },
  {
   "cell_type": "markdown",
   "id": "4eb81733-9ba7-4b10-941b-822f37055d06",
   "metadata": {},
   "source": [
    "### Split Data Train:Test to 70:30\n",
    "แบ่งข้อมูลสำหรับการ Train และ Test ในอัตราส่วน 70:30"
   ]
  },
  {
   "cell_type": "code",
   "execution_count": 10,
   "id": "0e89ff8d-2b2a-424d-8064-e59c7941c403",
   "metadata": {},
   "outputs": [],
   "source": [
    "# Define source and destination paths\n",
    "source_dir = \"/Users/nut/Documents/AiDurian/dataset_durian\"\n",
    "train_dir = \"/Users/nut/Documents/AiDurian/data/train\"\n",
    "test_dir = \"/Users/nut/Documents/AiDurian/data/test\"\n",
    "\n",
    "\n",
    "classes = ['Algal_Spot', 'Leaf_Blight', 'Leaf_Spot', 'No_Disease']"
   ]
  },
  {
   "cell_type": "code",
   "execution_count": 11,
   "id": "430c5ab5-9307-42da-8228-fb9ccf8bb323",
   "metadata": {},
   "outputs": [
    {
     "name": "stdout",
     "output_type": "stream",
     "text": [
      "/Users/nut/Documents/AiDurian/dataset_durian/Algal_Spot\n",
      "/Users/nut/Documents/AiDurian/dataset_durian/Leaf_Blight\n",
      "/Users/nut/Documents/AiDurian/dataset_durian/Leaf_Spot\n",
      "/Users/nut/Documents/AiDurian/dataset_durian/No_Disease\n"
     ]
    }
   ],
   "source": [
    "import shutil\n",
    "from sklearn.model_selection import train_test_split\n",
    "\n",
    "for class_name in classes:\n",
    "    # Get all images from the class folder\n",
    "    class_dir = os.path.join(source_dir, class_name)\n",
    "    print(class_dir)\n",
    "    images = os.listdir(class_dir)\n",
    "    images = [img for img in images if img.endswith(\".jpg\") or img.endswith(\".png\")]\n",
    "\n",
    "    # Split images into train (70%) and test (30%)\n",
    "    train_images, test_images = train_test_split(images, test_size=0.3, random_state=42)\n",
    "\n",
    "    # Copy the images to the corresponding train/test directories\n",
    "    for img in train_images:\n",
    "        shutil.copy(os.path.join(class_dir, img), os.path.join(train_dir, class_name, img))\n",
    "\n",
    "    for img in test_images:\n",
    "        shutil.copy(os.path.join(class_dir, img), os.path.join(test_dir, class_name, img))"
   ]
  },
  {
   "cell_type": "markdown",
   "id": "07e885e2-01df-4ced-87f3-16806b5d4258",
   "metadata": {},
   "source": [
    "## 2.3 Data Transformation\n",
    "- การทำNormalization : จะเป็นการปรับ Pixel ของภาพให้อยู่ในค่าที่เหมาะสมเช่น โดยปกติภาพจะมี Pixel อยู่ที่ 0 ถึง 255 หลังจากการทำกระบวนการดังกล่าวจะทำให้ Pixelเปลี่ยนาอยู่ในช่วง -1 ถึง 1 หรือ 0 ถึง 1 ซึ่งจากค่าตัวเลขที่เปลี่ยนไปจะทำให้เมื่อนำไปเข้า Neural Network จะช่วยให้ไม่เกิดปัญหาค่าที่สูงหรือต่ำเกินไปจนเกิดการโอเวอร์โฟลว์ (overflow) หรืออันเดอร์โฟลว์ (underflow) และการทำ Normalization ยังช่วยเร่งการเรียนรู้ของข้อมูล การคำนวณ ค่า Mean และ Std : ค่าดังกล่าวเกิดจากการคำนวณ Mean และ Std ในแต่ละภาพแล้วนำรวมเป็นผลรวมของ Mean และ Std แล้วหารด้วยจำนวนภาพทั้งหมด\n",
    "- การทำ Geometric Transformation : เป็นการสุ่ม Flip รูปภาพในแนวตั้งหรือแนวนอน การหมุนภาพ การCropรูป\n",
    "- การแปลงรูปให้อยู่ในรุปแบบ Tensor\n",
    "\n",
    "ในส่วนของการ Transformation รูปของเรา จะมีการ Crop Image ให้อยู่กึ่งกลางด้วยขนาด 180 x 120 เนื่องจากข้อมูลที่นำมาใช้ Train featureที่ต้องการใช้ระบุโรคของใบพืชจะเป็นใบไม้ที่อยู่ตรงกลางรูปการทำดังกล่าวจะช่วยตัดสภาพแวดล้อมที่ไม่เกี่ยวกับสิ่งที่model ไม่ต้องการเรียนรู้ออกไปได้มากที่สุด ,การสุ่ม Flip รูปภาพ(RandomHorizontalFlip,RandomVerticalFlip)\n",
    "การหมุนภาพ(RandomRotation) และ การเลื่อนภาพ การย่อ-ขยายภาพ การทำให้ภาพเอนแนวเฉียง(RandomAffine) จะช่วยให้ภาพที่ใช้ในการ Train model มีหลากหลายรูปแบบมากยิ่งขึ้น"
   ]
  },
  {
   "cell_type": "code",
   "execution_count": 39,
   "id": "4454290c-35ee-467f-a674-a9b3c9d2cd3d",
   "metadata": {},
   "outputs": [
    {
     "name": "stdout",
     "output_type": "stream",
     "text": [
      "Calculated Mean: tensor([0.4448, 0.5053, 0.3434])\n",
      "Calculated Std: tensor([0.1865, 0.1699, 0.1752])\n"
     ]
    }
   ],
   "source": [
    "# Step 1: Calculate mean and standard deviation\n",
    "initial_transform = transforms.Compose([\n",
    "    transforms.Resize((224, 224)),\n",
    "    transforms.ToTensor()\n",
    "])\n",
    "\n",
    "\n",
    "train_data = datasets.ImageFolder(root=image_path_train, transform=iniถtial_transform)\n",
    "train_dataloader = DataLoader(train_data, batch_size=32, shuffle=True)\n",
    "\n",
    "# Initialize mean and std\n",
    "mean = 0.0\n",
    "std = 0.0\n",
    "total_images = 0\n",
    "\n",
    "# Calculate mean and std for training data\n",
    "for images, _ in train_dataloader:\n",
    "    batch_samples = images.size(0)  # Number of images in the batch\n",
    "    images = images.view(batch_samples, images.size(1), -1)  # Reshape to (batch, channels, -1)\n",
    "    mean += images.mean(2).sum(0)  # Sum over all pixels in the batch\n",
    "    std += images.std(2).sum(0)  # Sum over all pixels in the batch\n",
    "    total_images += batch_samples\n",
    "\n",
    "mean /= total_images  # Final mean\n",
    "std /= total_images  # Final std\n",
    "\n",
    "print(f\"Calculated Mean: {mean}\")\n",
    "print(f\"Calculated Std: {std}\")"
   ]
  },
  {
   "cell_type": "code",
   "execution_count": 40,
   "id": "eab08f58-aded-4166-a758-148b8c8e0eb0",
   "metadata": {},
   "outputs": [],
   "source": [
    "# Define transformations with augmentation\n",
    "data_transform = transforms.Compose([\n",
    "    transforms.RandomHorizontalFlip(p=0.5),\n",
    "    transforms.RandomVerticalFlip(p=0.5),\n",
    "    transforms.RandomRotation(30),\n",
    "    transforms.Resize((224, 224)),\n",
    "    transforms.RandomAffine(degrees=15, translate=(0.1, 0.1), scale=(0.8, 1.2), shear=10),\n",
    "    transforms.CenterCrop((180,120)),\n",
    "    transforms.ToTensor(),\n",
    "    transforms.Normalize(mean=(mean[0].item(), mean[1].item(), mean[2].item()),\n",
    "                         std=(std[0].item(), std[1].item(), std[2].item()))\n",
    "])"
   ]
  },
  {
   "cell_type": "markdown",
   "id": "9dfbe21d-4b5b-4fd0-a414-ed79bfeb3c03",
   "metadata": {},
   "source": [
    "### Loading image data to dataset\n",
    "นำข้อมูลภาพมาทำการแปลงเป็นdatasetสำหรับการใช้ train และtest"
   ]
  },
  {
   "cell_type": "code",
   "execution_count": 45,
   "id": "57fa48b1-1f74-466b-8d4f-abfdc28a45ee",
   "metadata": {},
   "outputs": [
    {
     "name": "stdout",
     "output_type": "stream",
     "text": [
      "Train data:\n",
      "Dataset ImageFolder\n",
      "    Number of datapoints: 980\n",
      "    Root location: data/train\n",
      "    StandardTransform\n",
      "Transform: Compose(\n",
      "               RandomHorizontalFlip(p=0.5)\n",
      "               RandomVerticalFlip(p=0.5)\n",
      "               RandomRotation(degrees=[-30.0, 30.0], interpolation=nearest, expand=False, fill=0)\n",
      "               Resize(size=(224, 224), interpolation=bilinear, max_size=None, antialias=True)\n",
      "               RandomAffine(degrees=[-15.0, 15.0], translate=(0.1, 0.1), scale=(0.8, 1.2), shear=[-10.0, 10.0])\n",
      "               CenterCrop(size=(180, 120))\n",
      "               ToTensor()\n",
      "               Normalize(mean=(0.4448491036891937, 0.5052545666694641, 0.3434222638607025), std=(0.18651096522808075, 0.1699187010526657, 0.17523044347763062))\n",
      "           )\n",
      "Test data:\n",
      "Dataset ImageFolder\n",
      "    Number of datapoints: 422\n",
      "    Root location: data/test\n",
      "    StandardTransform\n",
      "Transform: Compose(\n",
      "               RandomHorizontalFlip(p=0.5)\n",
      "               RandomVerticalFlip(p=0.5)\n",
      "               RandomRotation(degrees=[-30.0, 30.0], interpolation=nearest, expand=False, fill=0)\n",
      "               Resize(size=(224, 224), interpolation=bilinear, max_size=None, antialias=True)\n",
      "               RandomAffine(degrees=[-15.0, 15.0], translate=(0.1, 0.1), scale=(0.8, 1.2), shear=[-10.0, 10.0])\n",
      "               CenterCrop(size=(180, 120))\n",
      "               ToTensor()\n",
      "               Normalize(mean=(0.4448491036891937, 0.5052545666694641, 0.3434222638607025), std=(0.18651096522808075, 0.1699187010526657, 0.17523044347763062))\n",
      "           )\n"
     ]
    }
   ],
   "source": [
    "train_data = datasets.ImageFolder(root=image_path_train,\n",
    "                                  transform=data_transform, # a transform for the data\n",
    "                                  target_transform=None) # a transform for the label/target\n",
    "\n",
    "test_data = datasets.ImageFolder(root=image_path_test,\n",
    "                                 transform=data_transform,\n",
    "                                 target_transform=None)\n",
    "\n",
    "print(f\"Train data:\\n{train_data}\\nTest data:\\n{test_data}\")"
   ]
  },
  {
   "cell_type": "code",
   "execution_count": 46,
   "id": "24f3bae4-b10f-4f73-a84c-53e74a56e28e",
   "metadata": {},
   "outputs": [
    {
     "data": {
      "text/plain": [
       "{'Algal_Spot': 0, 'Leaf_Blight': 1, 'Leaf_Spot': 2, 'No_Disease': 3}"
      ]
     },
     "execution_count": 46,
     "metadata": {},
     "output_type": "execute_result"
    }
   ],
   "source": [
    "class_dict = train_data.class_to_idx\n",
    "class_dict"
   ]
  },
  {
   "cell_type": "code",
   "execution_count": 47,
   "id": "3f3a7d0e-33dd-49d6-85bf-bd0d9fa9ff0d",
   "metadata": {},
   "outputs": [
    {
     "data": {
      "text/plain": [
       "(980, 422)"
      ]
     },
     "execution_count": 47,
     "metadata": {},
     "output_type": "execute_result"
    }
   ],
   "source": [
    "len(train_data), len(test_data)"
   ]
  },
  {
   "cell_type": "code",
   "execution_count": 48,
   "id": "fef8ee8b-1df6-4037-a387-57d1eab74e49",
   "metadata": {},
   "outputs": [
    {
     "data": {
      "text/plain": [
       "torch.Size([3, 180, 120])"
      ]
     },
     "execution_count": 48,
     "metadata": {},
     "output_type": "execute_result"
    }
   ],
   "source": [
    "train_data[0][0].shape"
   ]
  },
  {
   "cell_type": "markdown",
   "id": "c42fbed0-d5ab-46e2-b128-614afbcde307",
   "metadata": {},
   "source": [
    "### Turn data into dataloader\n",
    "การนำข้อมูลที่อยู่ในรูปแบบ Dataset แล้วมาทำการจัดกลุ่มข้อมูลที่จะเข้าไป Train ในแต่ละรอบซึ่งตัว Model ของเราจะตั้งไว้ให้ภาพที่เข้าไป Train คือ 32 ภาพต่อรอบเพื่อไม่ต้องโหลดและคำนวณข้อมูลทั้งหมดในครั้งเดียว ซึ่งจะใช้หน่วยความจำมากเกินไป โดยเฉพาะกับชุดข้อมูลขนาดใหญ่ การแบ่งเป็น Batches จะทำให้สามารถจัดการข้อมูลได้อย่างมีประสิทธิภาพมากขึ้นโดยใช้ทรัพยากรที่มีจำกัด\n",
    "\n",
    "ในการเลือก Batch size หากbatchเล็กเกินการคำนวณ gradient จะมีความเสี่ยงสูงซึ่งสามารถหลีกเลี่ยง Local Minima ได้ แต่ทำให้การฝึกไม่เสถียรและใช้เวลานานในการรวมกลุ่มข้อมูล ในขณะที่ขนาด Batch ที่ใหญ่ให้ Gradient ที่เสถียรและเพิ่มความเร็วในการฝึก แต่จะมีความเสี่ยงที่จะเข้าหา Sharp Minima ซึ่งอาจทำให้เพิ่มโอกาสในการ overfitting ซึ่งการเลือกBatch size 32 เป็นขนาดที่เหมาะสมสำหรับการเริ่ม Train Model เบื้องต้น \n",
    "\n",
    "อ้างอิงจาก:https://www.geeksforgeeks.org/how-to-choose-batch-size-and-number-of-epochs-when-fitting-a-model/"
   ]
  },
  {
   "cell_type": "code",
   "execution_count": 49,
   "id": "6d02d6d2-a29a-4873-97f8-e075bece884b",
   "metadata": {},
   "outputs": [
    {
     "name": "stdout",
     "output_type": "stream",
     "text": [
      "train_dataloader:31,test_dataloader:14\n",
      "train_data:980,test_data:422\n"
     ]
    }
   ],
   "source": [
    "BATCH_SIZE = 32\n",
    "train_dataloader = DataLoader(dataset=train_data,\n",
    "                              batch_size=BATCH_SIZE,\n",
    "                              num_workers=1,\n",
    "                              shuffle=True)\n",
    "\n",
    "test_dataloader = DataLoader(dataset=test_data,\n",
    "                             batch_size=BATCH_SIZE,\n",
    "                             num_workers=1,\n",
    "                             shuffle=False)\n",
    "\n",
    "print(f\"train_dataloader:{len(train_dataloader)},test_dataloader:{len(test_dataloader)}\")\n",
    "print(f\"train_data:{len(train_data)},test_data:{len(test_data)}\")\n"
   ]
  },
  {
   "cell_type": "markdown",
   "id": "ce49759a-2a7f-4b40-9545-febe45da38c9",
   "metadata": {},
   "source": [
    "# 3.Train"
   ]
  },
  {
   "cell_type": "markdown",
   "id": "80b48f3c-f174-4bff-a37b-aa4228f3f31a",
   "metadata": {},
   "source": [
    "## 3.1 AI Model"
   ]
  },
  {
   "cell_type": "markdown",
   "id": "5607ca95-c327-49ea-a75f-99b9650d81a1",
   "metadata": {},
   "source": [
    "### Model CNN \n",
    "สำหรับการจำแนกรูปภาพของโรคทางใบทุเรียน เป็นหัวข้อเรื่องที่เกี่ยวกับการทำ Classification ซึ่ง Model CNN มีความสามารถในการเรียนรู้คุณลักษณะที่ซับซ้อน การรักษาโครงสร้างเชิงพื้นที่ และมีความทนทานต่อการเปลี่ยนแปลงเล็กน้อยของภาพ ทำให้สามารถสร้างโมเดลที่ให้ผลลัพธ์ที่แม่นยำและมีความน่าเชื่อถือสูง และมักถูกใช้ในการทำงานด้านเกี่ยวกับรูปภาพเช่น การจำแนกภาพ การทำ Image Segmentation หรือ Object detection"
   ]
  },
  {
   "cell_type": "code",
   "execution_count": 56,
   "id": "479ab6b0-50d7-44db-9953-89915724e2c0",
   "metadata": {},
   "outputs": [],
   "source": [
    "# Create a convolutional neural network\n",
    "from torch import nn\n",
    "\n",
    "class Convolution(nn.Module):\n",
    "  def __init__(self,\n",
    "               input_shape:int,\n",
    "               hidden_units_1:int,\n",
    "               hidden_units_2:int,\n",
    "               hidden_units_3:int,\n",
    "               hidden_units_4:int,\n",
    "               output_shape:int):\n",
    "    super().__init__()\n",
    "    self.conv_block_1 = nn.Sequential(\n",
    "        nn.Conv2d(in_channels=input_shape,\n",
    "                  out_channels = hidden_units_1,\n",
    "                  kernel_size=3,\n",
    "                  stride=1,\n",
    "                  padding=1),\n",
    "        nn.ReLU(),\n",
    "        nn.Conv2d(in_channels=hidden_units_1,\n",
    "                  out_channels=hidden_units_2,\n",
    "                  kernel_size=3,\n",
    "                  stride=1,\n",
    "                  padding=1),\n",
    "        nn.ReLU(),\n",
    "        nn.MaxPool2d(kernel_size=(2,2),\n",
    "                     stride=2)\n",
    "    )\n",
    "    self.conv_block_2 = nn.Sequential(\n",
    "        nn.Conv2d(in_channels=hidden_units_2,\n",
    "                  out_channels=hidden_units_3,\n",
    "                  kernel_size=3,\n",
    "                  stride=1,\n",
    "                  padding=1),\n",
    "        nn.ReLU(),\n",
    "        nn.Conv2d(in_channels=hidden_units_3,\n",
    "                  out_channels=hidden_units_4,\n",
    "                  kernel_size=3,\n",
    "                  stride=1,\n",
    "                  padding=1),\n",
    "        nn.ReLU(),\n",
    "        nn.MaxPool2d(kernel_size=(2,2),\n",
    "                     stride=2)\n",
    "    )\n",
    "    self.classifier = nn.Sequential(\n",
    "        nn.Flatten(),\n",
    "        nn.Linear(in_features=hidden_units_4*45*30,\n",
    "                  out_features=output_shape)\n",
    "    )\n",
    "  def forward(self,x):\n",
    "    x = self.conv_block_1(x)\n",
    "    #print(x.shape)\n",
    "    x = self.conv_block_2(x)\n",
    "    #print(x.shape)\n",
    "    x = self.classifier(x)\n",
    "    return x\n",
    "\n"
   ]
  },
  {
   "cell_type": "markdown",
   "id": "60349ed8-09b0-4d7b-b1fd-89b61e066939",
   "metadata": {},
   "source": [
    "## 3.2 Hyperparameters"
   ]
  },
  {
   "cell_type": "markdown",
   "id": "5f885079-6b37-4af3-bc0d-6eac1133433c",
   "metadata": {},
   "source": [
    "### Model CNN Hyperparameters\n",
    "- Hidden layer ในแต่ละชั้นของ Model CNN : สำหรับการเลือก hidden unit พวกเราได้ลองหาข้อมูลเกี่ยวกับ Transfer Learning ซึ่งมีโครงสร้างพื้นฐานคล้าย CNN พวกเราจึงลองนำค่าใน Hidden layer ใน Transfer Learning มาใช้ในการสร้าง CNN model (https://neptune.ai/blog/transfer-learning-guide-examples-for-images-and-text-in-keras)\n",
    "- ค่า Learning Rate : เป็นการเลือกจากการทดลองปรับค่า Learning rate เรื่อยๆโดยเริ่มจาก 0.1 ,0.01, 0.001 ซึ่งการปรับค่าLearning rate มีผลต่อการเรียนรู้ของmodel เช่น หากปรับค่าLearning rate สูงเกินจะทำให้ โมเดลอาจข้ามค่าต่ำสุด (global minimum) ไป ทำให้ไม่สามารถหาค่าที่ดีที่สุดได้ และหากLearning rate ต่ำเกินไป Model อาจจะมีโอกาสได้ค่าต่ำสุด แต่ไม่ได้ต่ำที่สุด\n",
    "- ค่า Epoch ในการtrain model : การเลือกค่าจำนวนรอบเป็นค่าที่ควรปรับให้model เกิดการเรียนรู้ที่เพียงพอโดยหากมากเกินก็อาจทำให้เกิดการเรียนรู้จนOver fit ได้ หรือหากต่ำเกินอาจทำให้โมเดลเกิด Under fit ก็ได้ ดังนั้นควรค่อยๆปรับค่าParameter ตัวนี้โดยเริ่มแรก จะเริ่มที่ 10 หากAccuracyต่ำเกินลองค่อยๆปรับเพิ่มขึ้นทีละ 10\n",
    "\n"
   ]
  },
  {
   "cell_type": "markdown",
   "id": "70c4efa2-38c9-4da7-8cb1-73ab21742516",
   "metadata": {},
   "source": [
    "## 3.3 Model Training\n",
    "สังเกตุว่าจากการทำ Multiple classification ในการหาค่า Loss เราจะใช้ Cross Entropy Loss ซึ่งเป็นการคิด Loss Function ที่เหมาะกับการทำ Multiple classification โดยเมื่อทำการTrainออกมาที่ Output Layer ของโมเดลนี้จะมีทั้งหมด 4 Units ซึ่งจะแสดงออกมาเป็นตัวเลขในแต่ละ Class ตัวเลขเหล่านี้ยังคงเป็น Logit Number(ค่าดิบ) หากต้องการทราบถึงค่าความน่าจะเป็นในแต่ละ Output Layer Units เราจะใช้ Softmax function ในการแปลงค่า Logit เหล่านี้ออกมาเป็นความน่าจะเป็นในแต่ละ Class ได้ และ Optizer ที่เลือกใช้คือ Adam -> Optimizer มีหน้าที่ในการปรับปรุงค่า Weights และ Biases ของโมเดลเพื่อให้ค่า Loss หรือข้อผิดพลาดในการพยากรณ์ของโมเดลลดลงเรื่อย ๆ โดยทำงานในแต่ละรอบ (epoch) ของการฝึกสอน เมื่อโมเดลคำนวณผลลัพธ์และเปรียบเทียบกับค่าจริง จะมีการคำนวณ ค่าความสูญเสีย (loss function) จากนั้นตัว Optimizer จะทำหน้าที่ปรับค่าพารามิเตอร์ของโมเดลให้ใกล้เคียงกับค่าที่ให้ผลลัพธ์ที่ถูกต้องที่สุดโดยใช้กระบวนการที่เรียกว่า Gradient Descent หรือเทคนิคอื่น ๆ\n"
   ]
  },
  {
   "cell_type": "code",
   "execution_count": 63,
   "id": "2dd7f143-4fbf-47ae-a1d7-00aa8a683080",
   "metadata": {},
   "outputs": [
    {
     "name": "stderr",
     "output_type": "stream",
     "text": [
      "  2%|▊                                        | 1/50 [05:57<4:51:39, 357.12s/it]"
     ]
    },
    {
     "name": "stdout",
     "output_type": "stream",
     "text": [
      "Epoch 1/50, Loss: 2.1973, Accuracy: 0.4561\n",
      "F1 Score (Weighted): 0.4846\n",
      "Test Accuracy: 0.5379\n"
     ]
    },
    {
     "name": "stderr",
     "output_type": "stream",
     "text": [
      "  4%|█▋                                       | 2/50 [11:58<4:47:33, 359.45s/it]"
     ]
    },
    {
     "name": "stdout",
     "output_type": "stream",
     "text": [
      "Epoch 2/50, Loss: 0.9666, Accuracy: 0.6010\n",
      "F1 Score (Weighted): 0.4767\n",
      "Test Accuracy: 0.5355\n"
     ]
    },
    {
     "name": "stderr",
     "output_type": "stream",
     "text": [
      "  6%|██▍                                      | 3/50 [18:10<4:46:07, 365.27s/it]"
     ]
    },
    {
     "name": "stdout",
     "output_type": "stream",
     "text": [
      "Epoch 3/50, Loss: 0.8984, Accuracy: 0.6051\n",
      "F1 Score (Weighted): 0.5666\n",
      "Test Accuracy: 0.6019\n"
     ]
    },
    {
     "name": "stderr",
     "output_type": "stream",
     "text": [
      "  8%|███▎                                     | 4/50 [24:17<4:40:29, 365.86s/it]"
     ]
    },
    {
     "name": "stdout",
     "output_type": "stream",
     "text": [
      "Epoch 4/50, Loss: 0.8283, Accuracy: 0.6469\n",
      "F1 Score (Weighted): 0.5031\n",
      "Test Accuracy: 0.5664\n"
     ]
    },
    {
     "name": "stderr",
     "output_type": "stream",
     "text": [
      " 10%|████                                     | 5/50 [32:00<5:00:40, 400.90s/it]"
     ]
    },
    {
     "name": "stdout",
     "output_type": "stream",
     "text": [
      "Epoch 5/50, Loss: 0.7596, Accuracy: 0.7020\n",
      "F1 Score (Weighted): 0.7153\n",
      "Test Accuracy: 0.7180\n"
     ]
    },
    {
     "name": "stderr",
     "output_type": "stream",
     "text": [
      " 12%|████▉                                    | 6/50 [38:13<4:47:12, 391.64s/it]"
     ]
    },
    {
     "name": "stdout",
     "output_type": "stream",
     "text": [
      "Epoch 6/50, Loss: 0.7290, Accuracy: 0.6990\n",
      "F1 Score (Weighted): 0.6784\n",
      "Test Accuracy: 0.6872\n"
     ]
    },
    {
     "name": "stderr",
     "output_type": "stream",
     "text": [
      " 14%|█████▋                                   | 7/50 [44:43<4:40:12, 390.98s/it]"
     ]
    },
    {
     "name": "stdout",
     "output_type": "stream",
     "text": [
      "Epoch 7/50, Loss: 0.6744, Accuracy: 0.7051\n",
      "F1 Score (Weighted): 0.7493\n",
      "Test Accuracy: 0.7488\n"
     ]
    },
    {
     "name": "stderr",
     "output_type": "stream",
     "text": [
      " 16%|██████▌                                  | 8/50 [51:12<4:33:12, 390.29s/it]"
     ]
    },
    {
     "name": "stdout",
     "output_type": "stream",
     "text": [
      "Epoch 8/50, Loss: 0.5390, Accuracy: 0.8041\n",
      "F1 Score (Weighted): 0.7659\n",
      "Test Accuracy: 0.7654\n"
     ]
    },
    {
     "name": "stderr",
     "output_type": "stream",
     "text": [
      " 18%|███████▍                                 | 9/50 [58:10<4:32:35, 398.92s/it]"
     ]
    },
    {
     "name": "stdout",
     "output_type": "stream",
     "text": [
      "Epoch 9/50, Loss: 0.5492, Accuracy: 0.7898\n",
      "F1 Score (Weighted): 0.7730\n",
      "Test Accuracy: 0.7749\n"
     ]
    },
    {
     "name": "stderr",
     "output_type": "stream",
     "text": [
      " 20%|███████▌                              | 10/50 [1:04:57<4:27:46, 401.66s/it]"
     ]
    },
    {
     "name": "stdout",
     "output_type": "stream",
     "text": [
      "Epoch 10/50, Loss: 0.4990, Accuracy: 0.8133\n",
      "F1 Score (Weighted): 0.7157\n",
      "Test Accuracy: 0.7156\n"
     ]
    },
    {
     "name": "stderr",
     "output_type": "stream",
     "text": [
      " 22%|████████▎                             | 11/50 [1:16:54<5:23:41, 497.98s/it]"
     ]
    },
    {
     "name": "stdout",
     "output_type": "stream",
     "text": [
      "Epoch 11/50, Loss: 0.5287, Accuracy: 0.7939\n",
      "F1 Score (Weighted): 0.7406\n",
      "Test Accuracy: 0.7488\n"
     ]
    },
    {
     "name": "stderr",
     "output_type": "stream",
     "text": [
      " 24%|█████████                             | 12/50 [1:22:37<4:45:31, 450.84s/it]"
     ]
    },
    {
     "name": "stdout",
     "output_type": "stream",
     "text": [
      "Epoch 12/50, Loss: 0.4503, Accuracy: 0.8184\n",
      "F1 Score (Weighted): 0.7899\n",
      "Test Accuracy: 0.7962\n"
     ]
    },
    {
     "name": "stderr",
     "output_type": "stream",
     "text": [
      " 26%|█████████▉                            | 13/50 [1:28:29<4:19:30, 420.81s/it]"
     ]
    },
    {
     "name": "stdout",
     "output_type": "stream",
     "text": [
      "Epoch 13/50, Loss: 0.4888, Accuracy: 0.8112\n",
      "F1 Score (Weighted): 0.7995\n",
      "Test Accuracy: 0.8009\n"
     ]
    },
    {
     "name": "stderr",
     "output_type": "stream",
     "text": [
      " 28%|██████████▋                           | 14/50 [1:34:28<4:01:22, 402.28s/it]"
     ]
    },
    {
     "name": "stdout",
     "output_type": "stream",
     "text": [
      "Epoch 14/50, Loss: 0.3995, Accuracy: 0.8582\n",
      "F1 Score (Weighted): 0.8165\n",
      "Test Accuracy: 0.8199\n"
     ]
    },
    {
     "name": "stderr",
     "output_type": "stream",
     "text": [
      " 30%|███████████▍                          | 15/50 [1:40:17<3:45:21, 386.34s/it]"
     ]
    },
    {
     "name": "stdout",
     "output_type": "stream",
     "text": [
      "Epoch 15/50, Loss: 0.3373, Accuracy: 0.8765\n",
      "F1 Score (Weighted): 0.8561\n",
      "Test Accuracy: 0.8555\n"
     ]
    },
    {
     "name": "stderr",
     "output_type": "stream",
     "text": [
      " 32%|████████████▏                         | 16/50 [1:46:26<3:35:49, 380.87s/it]"
     ]
    },
    {
     "name": "stdout",
     "output_type": "stream",
     "text": [
      "Epoch 16/50, Loss: 0.3846, Accuracy: 0.8541\n",
      "F1 Score (Weighted): 0.8259\n",
      "Test Accuracy: 0.8223\n"
     ]
    },
    {
     "name": "stderr",
     "output_type": "stream",
     "text": [
      " 34%|████████████▉                         | 17/50 [1:53:25<3:35:50, 392.45s/it]"
     ]
    },
    {
     "name": "stdout",
     "output_type": "stream",
     "text": [
      "Epoch 17/50, Loss: 0.3472, Accuracy: 0.8602\n",
      "F1 Score (Weighted): 0.8299\n",
      "Test Accuracy: 0.8341\n"
     ]
    },
    {
     "name": "stderr",
     "output_type": "stream",
     "text": [
      " 36%|█████████████▋                        | 18/50 [1:59:54<3:28:46, 391.47s/it]"
     ]
    },
    {
     "name": "stdout",
     "output_type": "stream",
     "text": [
      "Epoch 18/50, Loss: 0.3579, Accuracy: 0.8684\n",
      "F1 Score (Weighted): 0.8156\n",
      "Test Accuracy: 0.8152\n"
     ]
    },
    {
     "name": "stderr",
     "output_type": "stream",
     "text": [
      " 38%|██████████████▍                       | 19/50 [2:06:12<3:20:06, 387.30s/it]"
     ]
    },
    {
     "name": "stdout",
     "output_type": "stream",
     "text": [
      "Epoch 19/50, Loss: 0.3570, Accuracy: 0.8643\n",
      "F1 Score (Weighted): 0.8579\n",
      "Test Accuracy: 0.8578\n"
     ]
    },
    {
     "name": "stderr",
     "output_type": "stream",
     "text": [
      " 40%|███████████████▏                      | 20/50 [2:12:12<3:09:33, 379.10s/it]"
     ]
    },
    {
     "name": "stdout",
     "output_type": "stream",
     "text": [
      "Epoch 20/50, Loss: 0.3192, Accuracy: 0.8929\n",
      "F1 Score (Weighted): 0.8373\n",
      "Test Accuracy: 0.8412\n"
     ]
    },
    {
     "name": "stderr",
     "output_type": "stream",
     "text": [
      " 42%|███████████████▉                      | 21/50 [2:18:19<3:01:34, 375.68s/it]"
     ]
    },
    {
     "name": "stdout",
     "output_type": "stream",
     "text": [
      "Epoch 21/50, Loss: 0.2886, Accuracy: 0.9061\n",
      "F1 Score (Weighted): 0.8690\n",
      "Test Accuracy: 0.8697\n"
     ]
    },
    {
     "name": "stderr",
     "output_type": "stream",
     "text": [
      " 44%|████████████████▋                     | 22/50 [2:24:21<2:53:20, 371.44s/it]"
     ]
    },
    {
     "name": "stdout",
     "output_type": "stream",
     "text": [
      "Epoch 22/50, Loss: 0.2670, Accuracy: 0.9173\n",
      "F1 Score (Weighted): 0.8553\n",
      "Test Accuracy: 0.8555\n"
     ]
    },
    {
     "name": "stderr",
     "output_type": "stream",
     "text": [
      " 46%|█████████████████▍                    | 23/50 [2:30:16<2:44:57, 366.56s/it]"
     ]
    },
    {
     "name": "stdout",
     "output_type": "stream",
     "text": [
      "Epoch 23/50, Loss: 0.2305, Accuracy: 0.9173\n",
      "F1 Score (Weighted): 0.8282\n",
      "Test Accuracy: 0.8270\n"
     ]
    },
    {
     "name": "stderr",
     "output_type": "stream",
     "text": [
      " 48%|██████████████████▏                   | 24/50 [2:36:21<2:38:39, 366.13s/it]"
     ]
    },
    {
     "name": "stdout",
     "output_type": "stream",
     "text": [
      "Epoch 24/50, Loss: 0.2607, Accuracy: 0.9020\n",
      "F1 Score (Weighted): 0.8651\n",
      "Test Accuracy: 0.8649\n"
     ]
    },
    {
     "name": "stderr",
     "output_type": "stream",
     "text": [
      " 50%|███████████████████                   | 25/50 [2:42:22<2:31:49, 364.40s/it]"
     ]
    },
    {
     "name": "stdout",
     "output_type": "stream",
     "text": [
      "Epoch 25/50, Loss: 0.2504, Accuracy: 0.9071\n",
      "F1 Score (Weighted): 0.8489\n",
      "Test Accuracy: 0.8460\n"
     ]
    },
    {
     "name": "stderr",
     "output_type": "stream",
     "text": [
      " 52%|███████████████████▊                  | 26/50 [2:48:17<2:24:41, 361.74s/it]"
     ]
    },
    {
     "name": "stdout",
     "output_type": "stream",
     "text": [
      "Epoch 26/50, Loss: 0.2466, Accuracy: 0.9082\n",
      "F1 Score (Weighted): 0.8701\n",
      "Test Accuracy: 0.8768\n"
     ]
    },
    {
     "name": "stderr",
     "output_type": "stream",
     "text": [
      " 54%|████████████████████▌                 | 27/50 [2:54:47<2:21:51, 370.05s/it]"
     ]
    },
    {
     "name": "stdout",
     "output_type": "stream",
     "text": [
      "Epoch 27/50, Loss: 0.2540, Accuracy: 0.9143\n",
      "F1 Score (Weighted): 0.8609\n",
      "Test Accuracy: 0.8578\n"
     ]
    },
    {
     "name": "stderr",
     "output_type": "stream",
     "text": [
      " 56%|█████████████████████▎                | 28/50 [3:00:54<2:15:24, 369.29s/it]"
     ]
    },
    {
     "name": "stdout",
     "output_type": "stream",
     "text": [
      "Epoch 28/50, Loss: 0.2243, Accuracy: 0.9224\n",
      "F1 Score (Weighted): 0.8563\n",
      "Test Accuracy: 0.8555\n"
     ]
    },
    {
     "name": "stderr",
     "output_type": "stream",
     "text": [
      " 58%|██████████████████████                | 29/50 [3:06:47<2:07:28, 364.22s/it]"
     ]
    },
    {
     "name": "stdout",
     "output_type": "stream",
     "text": [
      "Epoch 29/50, Loss: 0.1916, Accuracy: 0.9388\n",
      "F1 Score (Weighted): 0.8919\n",
      "Test Accuracy: 0.8910\n"
     ]
    },
    {
     "name": "stderr",
     "output_type": "stream",
     "text": [
      " 60%|██████████████████████▊               | 30/50 [3:12:49<2:01:14, 363.73s/it]"
     ]
    },
    {
     "name": "stdout",
     "output_type": "stream",
     "text": [
      "Epoch 30/50, Loss: 0.2127, Accuracy: 0.9235\n",
      "F1 Score (Weighted): 0.8747\n",
      "Test Accuracy: 0.8744\n"
     ]
    },
    {
     "name": "stderr",
     "output_type": "stream",
     "text": [
      " 62%|███████████████████████▌              | 31/50 [3:18:58<1:55:41, 365.32s/it]"
     ]
    },
    {
     "name": "stdout",
     "output_type": "stream",
     "text": [
      "Epoch 31/50, Loss: 0.2340, Accuracy: 0.9204\n",
      "F1 Score (Weighted): 0.8575\n",
      "Test Accuracy: 0.8578\n"
     ]
    },
    {
     "name": "stderr",
     "output_type": "stream",
     "text": [
      " 64%|████████████████████████▎             | 32/50 [3:24:41<1:47:36, 358.68s/it]"
     ]
    },
    {
     "name": "stdout",
     "output_type": "stream",
     "text": [
      "Epoch 32/50, Loss: 0.2257, Accuracy: 0.9082\n",
      "F1 Score (Weighted): 0.8909\n",
      "Test Accuracy: 0.8910\n"
     ]
    },
    {
     "name": "stderr",
     "output_type": "stream",
     "text": [
      " 66%|█████████████████████████             | 33/50 [3:30:30<1:40:48, 355.80s/it]"
     ]
    },
    {
     "name": "stdout",
     "output_type": "stream",
     "text": [
      "Epoch 33/50, Loss: 0.1860, Accuracy: 0.9408\n",
      "F1 Score (Weighted): 0.8841\n",
      "Test Accuracy: 0.8815\n"
     ]
    },
    {
     "name": "stderr",
     "output_type": "stream",
     "text": [
      " 68%|█████████████████████████▊            | 34/50 [3:36:16<1:34:01, 352.59s/it]"
     ]
    },
    {
     "name": "stdout",
     "output_type": "stream",
     "text": [
      "Epoch 34/50, Loss: 0.2357, Accuracy: 0.9214\n",
      "F1 Score (Weighted): 0.8974\n",
      "Test Accuracy: 0.8981\n"
     ]
    },
    {
     "name": "stderr",
     "output_type": "stream",
     "text": [
      " 70%|██████████████████████████▌           | 35/50 [3:42:07<1:28:05, 352.35s/it]"
     ]
    },
    {
     "name": "stdout",
     "output_type": "stream",
     "text": [
      "Epoch 35/50, Loss: 0.1859, Accuracy: 0.9418\n",
      "F1 Score (Weighted): 0.8960\n",
      "Test Accuracy: 0.8910\n"
     ]
    },
    {
     "name": "stderr",
     "output_type": "stream",
     "text": [
      " 72%|███████████████████████████▎          | 36/50 [3:48:15<1:23:17, 356.97s/it]"
     ]
    },
    {
     "name": "stdout",
     "output_type": "stream",
     "text": [
      "Epoch 36/50, Loss: 0.2048, Accuracy: 0.9276\n",
      "F1 Score (Weighted): 0.8868\n",
      "Test Accuracy: 0.8791\n"
     ]
    },
    {
     "name": "stderr",
     "output_type": "stream",
     "text": [
      " 74%|████████████████████████████          | 37/50 [3:53:51<1:16:00, 350.80s/it]"
     ]
    },
    {
     "name": "stdout",
     "output_type": "stream",
     "text": [
      "Epoch 37/50, Loss: 0.2020, Accuracy: 0.9245\n",
      "F1 Score (Weighted): 0.8712\n",
      "Test Accuracy: 0.8697\n"
     ]
    },
    {
     "name": "stderr",
     "output_type": "stream",
     "text": [
      " 76%|████████████████████████████▉         | 38/50 [3:59:24<1:09:03, 345.26s/it]"
     ]
    },
    {
     "name": "stdout",
     "output_type": "stream",
     "text": [
      "Epoch 38/50, Loss: 0.1865, Accuracy: 0.9357\n",
      "F1 Score (Weighted): 0.8810\n",
      "Test Accuracy: 0.8839\n"
     ]
    },
    {
     "name": "stderr",
     "output_type": "stream",
     "text": [
      " 78%|█████████████████████████████▋        | 39/50 [4:04:59<1:02:43, 342.12s/it]"
     ]
    },
    {
     "name": "stdout",
     "output_type": "stream",
     "text": [
      "Epoch 39/50, Loss: 0.1683, Accuracy: 0.9388\n",
      "F1 Score (Weighted): 0.9227\n",
      "Test Accuracy: 0.9242\n"
     ]
    },
    {
     "name": "stderr",
     "output_type": "stream",
     "text": [
      " 80%|████████████████████████████████        | 40/50 [4:10:36<56:47, 340.73s/it]"
     ]
    },
    {
     "name": "stdout",
     "output_type": "stream",
     "text": [
      "Epoch 40/50, Loss: 0.1201, Accuracy: 0.9510\n",
      "F1 Score (Weighted): 0.8737\n",
      "Test Accuracy: 0.8673\n"
     ]
    },
    {
     "name": "stderr",
     "output_type": "stream",
     "text": [
      " 82%|████████████████████████████████▊       | 41/50 [4:16:22<51:21, 342.41s/it]"
     ]
    },
    {
     "name": "stdout",
     "output_type": "stream",
     "text": [
      "Epoch 41/50, Loss: 0.1887, Accuracy: 0.9367\n",
      "F1 Score (Weighted): 0.8916\n",
      "Test Accuracy: 0.8910\n"
     ]
    },
    {
     "name": "stderr",
     "output_type": "stream",
     "text": [
      " 84%|█████████████████████████████████▌      | 42/50 [4:21:40<44:39, 335.00s/it]"
     ]
    },
    {
     "name": "stdout",
     "output_type": "stream",
     "text": [
      "Epoch 42/50, Loss: 0.1273, Accuracy: 0.9541\n",
      "F1 Score (Weighted): 0.8722\n",
      "Test Accuracy: 0.8673\n"
     ]
    },
    {
     "name": "stderr",
     "output_type": "stream",
     "text": [
      " 86%|██████████████████████████████████▍     | 43/50 [4:26:54<38:21, 328.73s/it]"
     ]
    },
    {
     "name": "stdout",
     "output_type": "stream",
     "text": [
      "Epoch 43/50, Loss: 0.1965, Accuracy: 0.9378\n",
      "F1 Score (Weighted): 0.8956\n",
      "Test Accuracy: 0.8981\n"
     ]
    },
    {
     "name": "stderr",
     "output_type": "stream",
     "text": [
      " 88%|███████████████████████████████████▏    | 44/50 [4:32:23<32:52, 328.77s/it]"
     ]
    },
    {
     "name": "stdout",
     "output_type": "stream",
     "text": [
      "Epoch 44/50, Loss: 0.1318, Accuracy: 0.9571\n",
      "F1 Score (Weighted): 0.9186\n",
      "Test Accuracy: 0.9194\n"
     ]
    },
    {
     "name": "stderr",
     "output_type": "stream",
     "text": [
      " 90%|████████████████████████████████████    | 45/50 [4:37:38<27:02, 324.53s/it]"
     ]
    },
    {
     "name": "stdout",
     "output_type": "stream",
     "text": [
      "Epoch 45/50, Loss: 0.3226, Accuracy: 0.9000\n",
      "F1 Score (Weighted): 0.8745\n",
      "Test Accuracy: 0.8768\n"
     ]
    },
    {
     "name": "stderr",
     "output_type": "stream",
     "text": [
      " 92%|████████████████████████████████████▊   | 46/50 [4:43:03<21:38, 324.67s/it]"
     ]
    },
    {
     "name": "stdout",
     "output_type": "stream",
     "text": [
      "Epoch 46/50, Loss: 0.1621, Accuracy: 0.9469\n",
      "F1 Score (Weighted): 0.9175\n",
      "Test Accuracy: 0.9171\n"
     ]
    },
    {
     "name": "stderr",
     "output_type": "stream",
     "text": [
      " 94%|█████████████████████████████████████▌  | 47/50 [4:48:32<16:17, 325.90s/it]"
     ]
    },
    {
     "name": "stdout",
     "output_type": "stream",
     "text": [
      "Epoch 47/50, Loss: 0.1329, Accuracy: 0.9480\n",
      "F1 Score (Weighted): 0.9182\n",
      "Test Accuracy: 0.9194\n"
     ]
    },
    {
     "name": "stderr",
     "output_type": "stream",
     "text": [
      " 96%|██████████████████████████████████████▍ | 48/50 [4:54:10<10:59, 329.73s/it]"
     ]
    },
    {
     "name": "stdout",
     "output_type": "stream",
     "text": [
      "Epoch 48/50, Loss: 0.1348, Accuracy: 0.9469\n",
      "F1 Score (Weighted): 0.8773\n",
      "Test Accuracy: 0.8815\n"
     ]
    },
    {
     "name": "stderr",
     "output_type": "stream",
     "text": [
      " 98%|███████████████████████████████████████▏| 49/50 [4:59:44<05:30, 330.81s/it]"
     ]
    },
    {
     "name": "stdout",
     "output_type": "stream",
     "text": [
      "Epoch 49/50, Loss: 0.1661, Accuracy: 0.9439\n",
      "F1 Score (Weighted): 0.9080\n",
      "Test Accuracy: 0.9076\n"
     ]
    },
    {
     "name": "stderr",
     "output_type": "stream",
     "text": [
      "100%|████████████████████████████████████████| 50/50 [5:05:06<00:00, 366.14s/it]"
     ]
    },
    {
     "name": "stdout",
     "output_type": "stream",
     "text": [
      "Epoch 50/50, Loss: 0.1191, Accuracy: 0.9531\n",
      "F1 Score (Weighted): 0.9125\n",
      "Test Accuracy: 0.9147\n"
     ]
    },
    {
     "name": "stderr",
     "output_type": "stream",
     "text": [
      "\n"
     ]
    }
   ],
   "source": [
    "# Initialize model, loss, and optimizer (this part is the same)\n",
    "model_CNN = Convolution(input_shape=3,\n",
    "                    hidden_units_1=32,\n",
    "                    hidden_units_2=64,\n",
    "                    hidden_units_3=350,\n",
    "                    hidden_units_4=512,\n",
    "                    output_shape=len(train_data.classes)).to(device)\n",
    "\n",
    "learning_rate = 0.001\n",
    "num_epochs = 50\n",
    "criterion = nn.CrossEntropyLoss()\n",
    "optimizer = torch.optim.Adam(model_CNN.parameters(), lr=learning_rate)\n",
    "\n",
    "# Move model to GPU if available\n",
    "device = torch.device('cuda' if torch.cuda.is_available() else 'cpu')\n",
    "model_CNN.to(device)\n",
    "\n",
    "# To store loss for plotting later\n",
    "train_loss_list = []\n",
    "\n",
    "# Training loop\n",
    "for epoch in tqdm(range(num_epochs)):\n",
    "    model_CNN.train()\n",
    "    running_loss = 0.0\n",
    "    correct_preds = 0\n",
    "    total_preds = 0\n",
    "\n",
    "    for images, labels in train_dataloader:\n",
    "        images, labels = images.to(device), labels.to(device)\n",
    "\n",
    "        # Forward pass\n",
    "        outputs = model_CNN(images)\n",
    "        loss = criterion(outputs, labels)\n",
    "\n",
    "        # Backward pass and optimization\n",
    "        optimizer.zero_grad()\n",
    "        loss.backward()\n",
    "        optimizer.step()\n",
    "\n",
    "        running_loss += loss.item() * images.size(0)\n",
    "        _, predicted = torch.max(outputs.data, 1)\n",
    "        total_preds += labels.size(0)\n",
    "        correct_preds += (predicted == labels).sum().item()\n",
    "\n",
    "    epoch_loss = running_loss / len(train_data)\n",
    "    epoch_accuracy = correct_preds / total_preds\n",
    "    train_loss_list.append(epoch_loss)\n",
    "\n",
    "    # Evaluation at the end of each epoch\n",
    "    model_CNN.eval()\n",
    "    all_labels = []\n",
    "    all_preds = []\n",
    "\n",
    "    with torch.inference_mode():\n",
    "        for images, labels in test_dataloader:\n",
    "            images, labels = images.to(device), labels.to(device)\n",
    "            outputs = model_CNN(images)\n",
    "            _, predicted = torch.max(outputs.data, 1)\n",
    "            all_labels.extend(labels.cpu().numpy())\n",
    "            all_preds.extend(predicted.cpu().numpy())\n",
    "\n",
    "    # Calculate metrics\n",
    "    accuracy = accuracy_score(all_labels, all_preds)\n",
    "    f1 = f1_score(all_labels, all_preds, average='weighted')\n",
    "    cm = confusion_matrix(all_labels, all_preds)\n",
    "\n",
    "    # Print metrics\n",
    "    print(f'Epoch {epoch+1}/{num_epochs}, Loss: {epoch_loss:.4f}, Accuracy: {epoch_accuracy:.4f}')\n",
    "    print(f'F1 Score (Weighted): {f1:.4f}')\n",
    "    print(f'Test Accuracy: {accuracy:.4f}')\n"
   ]
  },
  {
   "cell_type": "markdown",
   "id": "b901245f-d19a-4b12-b5fe-507618110a14",
   "metadata": {},
   "source": [
    "# 4. Test"
   ]
  },
  {
   "cell_type": "code",
   "execution_count": 83,
   "id": "fa0559bd-7bdb-4d0a-8e44-60adf278fc79",
   "metadata": {},
   "outputs": [],
   "source": [
    "model_CNN.eval()\n",
    "all_labels = []\n",
    "all_preds = []\n",
    "\n",
    "with torch.inference_mode():\n",
    "    for images, labels in test_dataloader:\n",
    "        images, labels = images.to(device), labels.to(device)\n",
    "        outputs = model_CNN(images)\n",
    "        _, predicted = torch.max(outputs.data, 1)\n",
    "        all_labels.extend(labels.cpu().numpy())\n",
    "        all_preds.extend(predicted.cpu().numpy())"
   ]
  },
  {
   "cell_type": "markdown",
   "id": "2f23d218-1707-4813-ad2b-6ecbcfb5e1f3",
   "metadata": {},
   "source": [
    "## 4.1 Evaluation"
   ]
  },
  {
   "cell_type": "markdown",
   "id": "9828c802-32d7-49e4-a215-b41348b66dc7",
   "metadata": {},
   "source": [
    "### Accuracy"
   ]
  },
  {
   "cell_type": "code",
   "execution_count": 85,
   "id": "6e907710-aa5e-43fd-8853-1d8e4d979726",
   "metadata": {},
   "outputs": [
    {
     "name": "stdout",
     "output_type": "stream",
     "text": [
      "Accuracy: 0.9123\n"
     ]
    }
   ],
   "source": [
    "accuracy = accuracy_score(all_labels, all_preds)\n",
    "print(f'Accuracy: {accuracy:.4f}')"
   ]
  },
  {
   "cell_type": "markdown",
   "id": "f950c60b-f23f-4daa-9e6a-2468668daf5d",
   "metadata": {},
   "source": [
    "### Precision"
   ]
  },
  {
   "cell_type": "code",
   "execution_count": 97,
   "id": "c5af0789-3e50-4f10-9138-dbd84b48913f",
   "metadata": {},
   "outputs": [
    {
     "name": "stdout",
     "output_type": "stream",
     "text": [
      "Precision: [0.90769231 0.89473684 0.87692308 0.95967742]\n"
     ]
    }
   ],
   "source": [
    "precision = precision_score(np.array(all_labels).astype(int),np.array(all_preds).astype(int),average=None)\n",
    "print(f'Precision: {precision}')"
   ]
  },
  {
   "cell_type": "markdown",
   "id": "d6299143-b052-4fc1-af53-ba22add0c8e2",
   "metadata": {},
   "source": [
    "### Recall"
   ]
  },
  {
   "cell_type": "code",
   "execution_count": 99,
   "id": "ebfa201c-2053-45f3-be30-f6d62d20a0b3",
   "metadata": {},
   "outputs": [
    {
     "name": "stdout",
     "output_type": "stream",
     "text": [
      "Recall: [0.96721311 0.62962963 0.98275862 0.91538462]\n"
     ]
    }
   ],
   "source": [
    "recall = recall_score(np.array(all_labels).astype(int),np.array(all_preds).astype(int),average=None)\n",
    "print(f'Recall: {recall}')"
   ]
  },
  {
   "cell_type": "markdown",
   "id": "9c134638-a07e-4ec1-ab24-ecd48ef94b65",
   "metadata": {},
   "source": [
    "### F1 score"
   ]
  },
  {
   "cell_type": "code",
   "execution_count": 87,
   "id": "c4c95853-ec20-4501-b71a-0d9c86b8a52a",
   "metadata": {},
   "outputs": [
    {
     "name": "stdout",
     "output_type": "stream",
     "text": [
      "F1 Score (Weighted): 0.9087\n"
     ]
    }
   ],
   "source": [
    "f1 = f1_score(all_labels, all_preds, average='weighted')\n",
    "print(f'F1 Score (Weighted): {f1:.4f}')"
   ]
  },
  {
   "cell_type": "markdown",
   "id": "1d0f2251-d87f-4b90-8797-78aa03f25db3",
   "metadata": {},
   "source": [
    "### Confusion Metric"
   ]
  },
  {
   "cell_type": "code",
   "execution_count": 76,
   "id": "d3d6e53a-a596-40bf-ab85-e99b6a93de60",
   "metadata": {},
   "outputs": [
    {
     "data": {
      "image/png": "[encoded data removed]",
      "text/plain": [
       "<Figure size 1000x700 with 2 Axes>"
      ]
     },
     "metadata": {},
     "output_type": "display_data"
    }
   ],
   "source": [
    "# Compute the confusion matrix\n",
    "cm = confusion_matrix(all_labels, all_preds, labels=list(range(len(classes))))\n",
    "\n",
    "# Plot the confusion matrix\n",
    "plt.figure(figsize=(10, 7))\n",
    "sns.heatmap(cm, annot=True, fmt='d', cmap='Blues', xticklabels=classes, yticklabels=classes)\n",
    "plt.xlabel('Predicted')\n",
    "plt.ylabel('True')\n",
    "plt.title('Confusion Matrix')\n",
    "plt.show()"
   ]
  },
  {
   "cell_type": "markdown",
   "id": "4420069b-6279-4fda-9243-398c2097b776",
   "metadata": {},
   "source": [
    "### Training Loss Curve\n",
    "จากภาพจะสังเกตุได้ว่าทุกๆEpoch ที่เพิ่มขึ้น ค่าLossจะยิ่งเข้าใกล้ 0 มากขึ้น"
   ]
  },
  {
   "cell_type": "code",
   "execution_count": 79,
   "id": "6c8e798d-b032-4d6b-b5ff-ff789ea4a180",
   "metadata": {},
   "outputs": [
    {
     "data": {
      "image/png": "[encoded data removed]",
      "text/plain": [
       "<Figure size 640x480 with 1 Axes>"
      ]
     },
     "metadata": {},
     "output_type": "display_data"
    }
   ],
   "source": [
    "# End of training: Plot loss over epochs\n",
    "plt.plot(train_loss_list, label='Train Loss')\n",
    "plt.title('Training Loss over Epochs')\n",
    "plt.xlabel('Epoch')\n",
    "plt.ylabel('Loss')\n",
    "plt.legend()\n",
    "plt.show()"
   ]
  },
  {
   "cell_type": "markdown",
   "id": "a6b3a1eb-c752-4907-9f24-f44a7765161f",
   "metadata": {},
   "source": [
    "## 4.2 Description for Evaluation\n",
    "จากการเทรน Model CNN จะสามารถประเมิน Model ด้วยค่าต่างๆดังนี้\n",
    "1. Accuracy Score : เป็นการประเมินจากจำนวนที่ทำการ Prediction ออกมาได้ถูกต้องจากทั้งหมด มีวิธีคำนวณคือ (TP+TN)/N ซึ่งใน Model เราจะได้ Accuracy อยู่ที่ 91.23%\n",
    "\n",
    "---\n",
    "\n",
    "2. Precision : เป็นการPredictionของหมวดหมู่ที่เราสนใจ เช่น ทำนาย 100 ข้อมูล ทำนายถูก 82 ตัว(TP) ทำนายข้อมูล18ตัวเป็นถูกจากที่ควรจะผิด(FP) เมื่อนำมาคิดคำนวณด้วยสูตร TP/(TP+FP) จะได้ 82.0% สรุปคือข้อมูลที่เราสนใจมีค่าอื่นนอกจากที่เราสนใจถูกทำนายมาอยู่ในสิ่งที่เราสนใจ ดังนั้นสำหรับ Precision Score ที่ได้จากการคำนวณ คือ [0.90769231 0.89473684 0.87692308 0.95967742] จะมีความหมายว่า\n",
    "   - ในclass Algal Spot จะมีPrecisionอยู่ที่ 90.7692% จากการทำนายภาพชนิด Algal Spot\n",
    "   - ในclass Leaf Blight จะPrecisionอยู่ที่ 89.4736% จากการทำนายภาพชนิด Leaf Blight\n",
    "   - ในclass Leaf Spot จะมีPrecisionยู่ที่ 87.6923% จากการทำนายภาพชนิด Leaf Spot\n",
    "   - ในclass No Disease จะมีPrecisionอยู่ที่ 95.9677% จากการทำนายภาพชนิด No Disease\n",
    "---\n",
    "\n",
    "3.  Recall : เป็นการPredictionของค่าจริงที่Predictionได้ เช่น ทำนาย 92 ข้อมูล ทำนายถูก 76 ตัว(TP) ทำนายข้อมูล 16 ตัวเป็นผิดจากที่ควรจะถูก(FN) เมื่อนำมาคิดคำนวณด้วยสูตร TP/(TP+FN) จะได้ 82.6% สรุปคือข้อมูลในกลุ่มที่เราสนใจถูกทำนายให้ไปอยู่กับclassที่เราไม่ได้สนใจ ดังนั้นสำหรับ Recall Score ที่ได้จากการคำนวณ คือ [0.96721311 0.62962963 0.98275862 0.91538462] จะมีความหมายว่า\n",
    "       - ในclass Algal Spot จะมีRecallอยู่ที่ 96.7213% จากการทำนายภาพชนิด Algal Spot\n",
    "       - ในclass Leaf Blight จะมีRecallอยู่ที่ 62.9629% จากการทำนายภาพชนิด Leaf Blight\n",
    "       - ในclass Leaf Spot จะมีRecallอยู่ที่ 98.2758% จากการทำนายภาพชนิด Leaf Spot\n",
    "       - ในclass No Disease จะมีRecallอยู่ที่ 91.5384% จากการทำนายภาพชนิด No Disease\n",
    "\n",
    "---\n",
    "\n",
    "4. F1 Score : เป็นการหาค่าเฉลี่ยของ Precision และ Recall ซึ่งมีสูตรในการคำนวณคือ 2 x Precision x Recall / (Precision + Recall) แต่เนื่องจากการทำ classification โดย Model มีทั้งหมด4 class และในแต่ละclass จำนวนภาพไม่เท่ากัน ทำให้การคิด F1 scoreต่อ 1 class จะคิดแบบถ่วงน้ำหนักโดยการนำจำนวนภาพในแต่ละclassที่Predictคูณเข้าไปกับ F1 score ของแต่ละclass จะได้เป็น (2 x Precision x Recall / (Precision + Recall)) x จำนวนภาพในแต่ละclass เมื่อนำF1 score ของแต่ละclass มารวมกันแล้วหารด้วยจำนวนภาพที่ทำนายทั้งหมด จะได้เป็น F1 score รวมโดยต่าที่ยิ่งสูงบ่งบอกถึงประสิทธิภาพของ Model ที่ดี ซึ่งในModel CNN มี F1 score อยู่ที่ 90.87 %\n",
    "\n",
    "---\n",
    "\n",
    "5. Confusion Metric : เป็นการแสดงจำนวนที่ทำนายในแต่ละ class ในรูปแบบตาราง ทำให้รู้ว่าทำนายถูกกี่ภาพในแต่ละ class ทำนายที่ทำนายผิดไปอยู่classใด\n"
   ]
  },
  {
   "cell_type": "markdown",
   "id": "d5d1e731-7236-4262-858c-01b9c6cf1b13",
   "metadata": {},
   "source": [
    "# 5.Model Improvement\n",
    "\n"
   ]
  },
  {
   "cell_type": "markdown",
   "id": "4fcb082f-a899-4ce2-9afd-03026a71a60f",
   "metadata": {},
   "source": [
    "## 5.1 Model error analysis\n",
    "จากผลลัพธ์การ Train Model ที่เกิดขึ้นพบว่าในแต่ละ Class ยังมีการ Predict ที่ผิดพลาดอยู่มากโดยเฉพาะ Class Algal Spot และ Leaf Spot นอกจากนี้ Model CNN ยังใช้เวลาในการ Train นานมากๆ ซึ่งสาเหตุที่ทำให้ Predict พลาดเยอะอาจเกิดจากการที่มีข้อมูลในการ Train Model น้อยเกินไปในแต่ละ Class"
   ]
  },
  {
   "cell_type": "markdown",
   "id": "7ad02fae-ad67-4dfc-9e26-03a67e706e0b",
   "metadata": {},
   "source": [
    "## 5.2 Model improvement"
   ]
  },
  {
   "cell_type": "markdown",
   "id": "9ebaf146-0fb0-4c02-998f-f494e0b78d69",
   "metadata": {},
   "source": [
    "### Model Transferlearning (Efficient Net)\n",
    "การใช้ Model Transfer Learning จะช่วยลดรอบและเวลาในการ Train Model ได้มากเนื่องจาก Model Transfer Learning เป็น Model ที่ผ่านการ Train ด้วยชุดข้อมูลขนาดใหญ่มาก่อนทำให้ได้ค่าตัวเลขน้ำหนักที่สามารถนำมาเป็นจุดเริ่มต้นของการ Train Model เวลาในการ Train จึงน้อยลง และเนื่องจากปริมาณข้อมูลที่ใช้ในการ Train มีจำกัด อาจทำให้โมเดลเกิด Overfitting ได้ง่าย การใช้ Transfer Learning ช่วยลดความเสี่ยงนี้ได้\n",
    "\n",
    "\n",
    "ทำไมถึงต้อง Efficient Net?\n",
    "\n",
    "จากการหาข้อมูลพบว่าการการจำแนกโรคในพืช Transfer Learning Model ที่มีประสิทธิภาพในการแยกโรคทางใบพืชที่ดีที่สุดคือ Efficient Net จะเห็นได้ว่า Efficient Net มีความแม่นยำมากกว่า Transfer Learning ตัวอื่นๆ และใช้เวลาน้อยที่สุด (ทาง Model ใช้ Efficient Net B0 เนื่องด้วยเวลาการ Train ที่น้อยที่สุดและมีประสิทธิภาพสูงกว่า Model Transfer Learning ตัวอื่นๆที่ไม่ใช่ Efficient Net Version ที่สูงกว่า)\n",
    "\n",
    "**Reference**\n",
    "- https://openagriculturejournal.com/VOLUME/18/ELOCATOR/e18743315305194/FULLTEXT/\n",
    "- https://www.semanticscholar.org/paper/Plant-leaf-disease-classification-using-deep-model-Atila-U%C3%A7ar/7a96cf43dc8b99e4da527ec645931a0033effc67\n",
    "- https://www.sciencedirect.com/science/article/pii/S1574954120301321?casa_token=382NVKnOwRMAAAAA:dNrhoiSe7D8gq39fO5iKrhmPbSRjzPv5lVrf5S-jJPBTV28BXgdArFGq8PudrEhPjPJfinvTLA\n"
   ]
  },
  {
   "cell_type": "code",
   "execution_count": 101,
   "id": "71a6d623-e51d-46f3-8ea5-d78ae96a2e4a",
   "metadata": {},
   "outputs": [],
   "source": [
    "class TransferLearningModel(nn.Module):\n",
    "    def __init__(self, num_classes):\n",
    "        super(TransferLearningModel, self).__init__()\n",
    "        self.model = models.efficientnet_b0(weights=models.EfficientNet_B0_Weights.DEFAULT)\n",
    "\n",
    "        # Replace the classifier to match the number of classes\n",
    "        in_features = self.model.classifier[1].in_features  # Get the input features of the classifier layer\n",
    "        self.model.classifier[1] = nn.Linear(in_features, num_classes)  # Update to match num_classes\n",
    "\n",
    "    def forward(self, x):\n",
    "        return self.model(x)"
   ]
  },
  {
   "cell_type": "code",
   "execution_count": 105,
   "id": "5f6337f6-252c-4e0b-bfa8-aed980c553c5",
   "metadata": {},
   "outputs": [
    {
     "name": "stderr",
     "output_type": "stream",
     "text": [
      " 20%|████████▊                                   | 1/5 [05:39<22:37, 339.33s/it]"
     ]
    },
    {
     "name": "stdout",
     "output_type": "stream",
     "text": [
      "Epoch 1/5, Loss: 0.4770, Accuracy: 0.8469\n",
      "F1 Score (Weighted): 0.9271\n",
      "Test Accuracy: 0.9265\n"
     ]
    },
    {
     "name": "stderr",
     "output_type": "stream",
     "text": [
      " 40%|█████████████████▌                          | 2/5 [21:39<35:13, 704.42s/it]"
     ]
    },
    {
     "name": "stdout",
     "output_type": "stream",
     "text": [
      "Epoch 2/5, Loss: 0.2317, Accuracy: 0.9235\n",
      "F1 Score (Weighted): 0.9430\n",
      "Test Accuracy: 0.9431\n"
     ]
    },
    {
     "name": "stderr",
     "output_type": "stream",
     "text": [
      " 60%|██████████████████████████▍                 | 3/5 [38:36<28:14, 847.02s/it]"
     ]
    },
    {
     "name": "stdout",
     "output_type": "stream",
     "text": [
      "Epoch 3/5, Loss: 0.1191, Accuracy: 0.9612\n",
      "F1 Score (Weighted): 0.9762\n",
      "Test Accuracy: 0.9763\n"
     ]
    },
    {
     "name": "stderr",
     "output_type": "stream",
     "text": [
      " 80%|███████████████████████████████████▏        | 4/5 [44:13<10:45, 645.74s/it]"
     ]
    },
    {
     "name": "stdout",
     "output_type": "stream",
     "text": [
      "Epoch 4/5, Loss: 0.1289, Accuracy: 0.9612\n",
      "F1 Score (Weighted): 0.9621\n",
      "Test Accuracy: 0.9621\n"
     ]
    },
    {
     "name": "stderr",
     "output_type": "stream",
     "text": [
      "100%|████████████████████████████████████████████| 5/5 [49:49<00:00, 597.82s/it]"
     ]
    },
    {
     "name": "stdout",
     "output_type": "stream",
     "text": [
      "Epoch 5/5, Loss: 0.1092, Accuracy: 0.9704\n",
      "F1 Score (Weighted): 0.9811\n",
      "Test Accuracy: 0.9810\n"
     ]
    },
    {
     "name": "stderr",
     "output_type": "stream",
     "text": [
      "\n"
     ]
    }
   ],
   "source": [
    "from tqdm.auto import tqdm\n",
    "\n",
    "num_classes = len(classes)  # Adjust based on your dataset\n",
    "model_Transfer_Learning = TransferLearningModel(num_classes=num_classes)\n",
    "\n",
    "# Hyperparameters\n",
    "learning_rate = 0.001\n",
    "num_epochs = 5\n",
    "\n",
    "# Initialize loss function and optimizer\n",
    "criterion = nn.CrossEntropyLoss()\n",
    "optimizer = torch.optim.Adam(model_Transfer_Learning.parameters(), lr=learning_rate)\n",
    "\n",
    "# Move model to GPU if available\n",
    "device = torch.device('cuda' if torch.cuda.is_available() else 'cpu')\n",
    "model_Transfer_Learning.to(device)\n",
    "\n",
    "train_loss_list_Transfer_Learning = []\n",
    "\n",
    "# Training loop\n",
    "for epoch in tqdm(range(num_epochs)):\n",
    "    model_Transfer_Learning.train()\n",
    "    running_loss = 0.0\n",
    "    correct_preds = 0\n",
    "    total_preds = 0\n",
    "\n",
    "    for images, labels in train_dataloader:\n",
    "        images, labels = images.to(device), labels.to(device)\n",
    "\n",
    "        # Forward pass\n",
    "        outputs = model_Transfer_Learning(images)\n",
    "        loss = criterion(outputs, labels)\n",
    "\n",
    "        # Backward pass and optimization\n",
    "        optimizer.zero_grad()\n",
    "        loss.backward()\n",
    "        optimizer.step()\n",
    "\n",
    "        running_loss += loss.item() * images.size(0)\n",
    "        _, predicted = torch.max(outputs.data, 1)\n",
    "        total_preds += labels.size(0)\n",
    "        correct_preds += (predicted == labels).sum().item()\n",
    "\n",
    "    epoch_loss = running_loss / len(train_data)\n",
    "    epoch_accuracy = correct_preds / total_preds\n",
    "    train_loss_list_Transfer_Learning.append(epoch_loss)\n",
    "    \n",
    "\n",
    "    # Evaluation\n",
    "    model_Transfer_Learning.eval()\n",
    "    all_labels = []\n",
    "    all_preds = []\n",
    "\n",
    "    with torch.inference_mode():\n",
    "        for images, labels in test_dataloader:\n",
    "            images, labels = images.to(device), labels.to(device)\n",
    "            outputs = model_Transfer_Learning(images)\n",
    "            _, predicted = torch.max(outputs.data, 1)\n",
    "            all_labels.extend(labels.cpu().numpy())\n",
    "            all_preds.extend(predicted.cpu().numpy())\n",
    "\n",
    "    accuracy = accuracy_score(all_labels, all_preds)\n",
    "    f1 = f1_score(all_labels, all_preds, average='weighted')\n",
    "    cm = confusion_matrix(all_labels, all_preds)\n",
    "    \n",
    "    # Print metrics\n",
    "    print(f'Epoch {epoch+1}/{num_epochs}, Loss: {epoch_loss:.4f}, Accuracy: {epoch_accuracy:.4f}')\n",
    "    print(f'F1 Score (Weighted): {f1:.4f}')\n",
    "    print(f'Test Accuracy: {accuracy:.4f}')"
   ]
  },
  {
   "cell_type": "markdown",
   "id": "27c3b5a1-3542-4d25-814b-53fb3766ec18",
   "metadata": {},
   "source": [
    "## 5.3 Result After Improvement"
   ]
  },
  {
   "cell_type": "code",
   "execution_count": 107,
   "id": "074a18b4-4d29-42f6-935b-6c18615584af",
   "metadata": {},
   "outputs": [],
   "source": [
    "# Evaluation\n",
    "model_Transfer_Learning.eval()\n",
    "all_labels = []\n",
    "all_preds = []\n",
    "\n",
    "with torch.inference_mode():\n",
    "    for images, labels in test_dataloader:\n",
    "        images, labels = images.to(device), labels.to(device)\n",
    "        outputs = model_Transfer_Learning(images)\n",
    "        _, predicted = torch.max(outputs.data, 1)\n",
    "        all_labels.extend(labels.cpu().numpy())\n",
    "        all_preds.extend(predicted.cpu().numpy())"
   ]
  },
  {
   "cell_type": "markdown",
   "id": "9cb20d53-5c5c-4f50-9fcb-38ec0313b85a",
   "metadata": {},
   "source": [
    "### Accuracy"
   ]
  },
  {
   "cell_type": "code",
   "execution_count": 108,
   "id": "20e70389-b8e6-438c-8311-b7bb7e75a4cd",
   "metadata": {},
   "outputs": [
    {
     "name": "stdout",
     "output_type": "stream",
     "text": [
      "Accuracy: 0.9810\n"
     ]
    }
   ],
   "source": [
    "accuracy = accuracy_score(all_labels, all_preds)\n",
    "print(f'Accuracy: {accuracy:.4f}')"
   ]
  },
  {
   "cell_type": "markdown",
   "id": "82963f58-7b05-4969-b862-ee942c51abf6",
   "metadata": {},
   "source": [
    "### Precision"
   ]
  },
  {
   "cell_type": "code",
   "execution_count": 109,
   "id": "bf7c2af0-19cb-4309-a9f5-cecfd08513cd",
   "metadata": {},
   "outputs": [
    {
     "name": "stdout",
     "output_type": "stream",
     "text": [
      "Precision: [0.95275591 0.98181818 1.         0.99224806]\n"
     ]
    }
   ],
   "source": [
    "precision = precision_score(np.array(all_labels).astype(int),np.array(all_preds).astype(int),average=None)\n",
    "print(f'Precision: {precision}')"
   ]
  },
  {
   "cell_type": "markdown",
   "id": "7eacc96e-7fb0-41de-802f-70d70b7ffb1d",
   "metadata": {},
   "source": [
    "### Recall"
   ]
  },
  {
   "cell_type": "code",
   "execution_count": 110,
   "id": "5a2fb329-7bd1-40cf-9e11-26cdd01a6d11",
   "metadata": {},
   "outputs": [
    {
     "name": "stdout",
     "output_type": "stream",
     "text": [
      "Recall: [0.99180328 1.         0.95689655 0.98461538]\n"
     ]
    }
   ],
   "source": [
    "recall = recall_score(np.array(all_labels).astype(int),np.array(all_preds).astype(int),average=None)\n",
    "print(f'Recall: {recall}')"
   ]
  },
  {
   "cell_type": "markdown",
   "id": "923ec70d-55f7-4940-a6db-e1b6a1366222",
   "metadata": {},
   "source": [
    "### F1 Score"
   ]
  },
  {
   "cell_type": "code",
   "execution_count": 111,
   "id": "8bcf17d9-db61-4682-a8b3-bd8c7741acdb",
   "metadata": {},
   "outputs": [
    {
     "name": "stdout",
     "output_type": "stream",
     "text": [
      "F1 Score (Weighted): 0.9811\n"
     ]
    }
   ],
   "source": [
    "f1 = f1_score(all_labels, all_preds, average='weighted')\n",
    "print(f'F1 Score (Weighted): {f1:.4f}')"
   ]
  },
  {
   "cell_type": "markdown",
   "id": "da79ee53-96d8-4746-8eb1-29cb64c9fc97",
   "metadata": {},
   "source": [
    "### Confusion Metric"
   ]
  },
  {
   "cell_type": "code",
   "execution_count": 153,
   "id": "cb9469dc-18f6-4075-be7e-71da0ddd8031",
   "metadata": {},
   "outputs": [
    {
     "data": {
      "image/png": "[encoded data removed]",
      "text/plain": [
       "<Figure size 1000x700 with 2 Axes>"
      ]
     },
     "metadata": {},
     "output_type": "display_data"
    }
   ],
   "source": [
    "cm = confusion_matrix(all_labels, all_preds, labels=list(range(len(classes))))\n",
    "    \n",
    "# Plot the confusion matrix\n",
    "plt.figure(figsize=(10, 7))\n",
    "sns.heatmap(cm, annot=True, fmt='d', cmap='Greens', xticklabels=classes, yticklabels=classes)\n",
    "plt.xlabel('Predicted')\n",
    "plt.ylabel('True')\n",
    "plt.title('Confusion Matrix')\n",
    "plt.show()"
   ]
  },
  {
   "cell_type": "markdown",
   "id": "b862b8af-fe58-443b-a20d-2d9541dcfad0",
   "metadata": {},
   "source": [
    "### Training Loss Curve"
   ]
  },
  {
   "cell_type": "code",
   "execution_count": 141,
   "id": "4aae1471-e637-4b96-a10b-cf84f871fe4e",
   "metadata": {},
   "outputs": [
    {
     "data": {
      "image/png": "[encoded data removed]",
      "text/plain": [
       "<Figure size 640x480 with 1 Axes>"
      ]
     },
     "metadata": {},
     "output_type": "display_data"
    }
   ],
   "source": [
    "# End of training: Plot loss over epochs\n",
    "plt.plot(train_loss_list_Transfer_Learning, label='Train Loss')\n",
    "plt.title('Training Loss over Epochs')\n",
    "plt.xlabel('Epoch')\n",
    "plt.ylabel('Loss')\n",
    "plt.legend()\n",
    "plt.show()"
   ]
  },
  {
   "cell_type": "markdown",
   "id": "879a3a3d-7172-4128-9499-a28af5bc7d68",
   "metadata": {},
   "source": [
    "<span style=\"font-size: 24px;\">จากผลลัพธ์จะเห็นได้ว่า Accuracy, Precision, Recall, No Disease เพิ่มขึ้นอย่างเห็นได้ชัด เมื่อทำการ Train ด้วย Pretrain Model อย่าง Efficient Net</span>\n",
    "\n",
    "<h2>Accuracy</h2>\n",
    "<table style=\"font-size: 20px; text-align: left; border-collapse: collapse; width: 100%;\">\n",
    "  <tr>\n",
    "    <th style=\"border: 1px solid black;\">Accuracy</th>\n",
    "    <th style=\"border: 1px solid black;\">Before</th>\n",
    "    <th style=\"border: 1px solid black;\">After</th>\n",
    "  </tr>\n",
    "  <tr>\n",
    "    <td style=\"border: 1px solid black;\">Value</td>\n",
    "    <td style=\"border: 1px solid black;\">91.23%</td>\n",
    "    <td style=\"border: 1px solid black;\">98.10%</td>\n",
    "  </tr>\n",
    "</table>\n",
    "\n",
    "<br>\n",
    "\n",
    "<h2>Precision</h2>\n",
    "<table style=\"font-size: 20px; text-align: left; border-collapse: collapse; width: 100%;\">\n",
    "  <tr>\n",
    "    <th style=\"border: 1px solid black;\">Precision</th>\n",
    "    <th style=\"border: 1px solid black;\">Algal Spot</th>\n",
    "    <th style=\"border: 1px solid black;\">Leaf Blight</th>\n",
    "    <th style=\"border: 1px solid black;\">Leaf Spot</th>\n",
    "    <th style=\"border: 1px solid black;\">No Disease</th>\n",
    "  </tr>\n",
    "  <tr>\n",
    "    <th style=\"border: 1px solid black;\">Before</th>\n",
    "    <td style=\"border: 1px solid black;\">90.76%</td>\n",
    "    <td style=\"border: 1px solid black;\">89.47%</td>\n",
    "    <td style=\"border: 1px solid black;\">87.69%</td>\n",
    "    <td style=\"border: 1px solid black;\">95.96%</td>\n",
    "  </tr>\n",
    "  <tr>\n",
    "    <th style=\"border: 1px solid black;\">After</th>\n",
    "    <td style=\"border: 1px solid black;\">95.27%</td>\n",
    "    <td style=\"border: 1px solid black;\">98.18%</td>\n",
    "    <td style=\"border: 1px solid black;\">100.00%</td>\n",
    "    <td style=\"border: 1px solid black;\">99.22%</td>\n",
    "  </tr>\n",
    "</table>\n",
    "\n",
    "<br>\n",
    "\n",
    "<h2>Recall</h2>\n",
    "<table style=\"font-size: 20px; text-align: left; border-collapse: collapse; width: 100%;\">\n",
    "  <tr>\n",
    "    <th style=\"border: 1px solid black;\">Recall</th>\n",
    "    <th style=\"border: 1px solid black;\">Algal Spot</th>\n",
    "    <th style=\"border: 1px solid black;\">Leaf Blight</th>\n",
    "    <th style=\"border: 1px solid black;\">Leaf Spot</th>\n",
    "    <th style=\"border: 1px solid black;\">No Disease</th>\n",
    "  </tr>\n",
    "  <tr>\n",
    "    <th style=\"border: 1px solid black;\">Before</th>\n",
    "    <td style=\"border: 1px solid black;\">96.72%</td>\n",
    "    <td style=\"border: 1px solid black;\">62.96%</td>\n",
    "    <td style=\"border: 1px solid black;\">98.27%</td>\n",
    "    <td style=\"border: 1px solid black;\">91.53%</td>\n",
    "  </tr>\n",
    "  <tr>\n",
    "    <th style=\"border: 1px solid black;\">After</th>\n",
    "    <td style=\"border: 1px solid black;\">99.18%</td>\n",
    "    <td style=\"border: 1px solid black;\">100.00%</td>\n",
    "    <td style=\"border: 1px solid black;\">95.68%</td>\n",
    "    <td style=\"border: 1px solid black;\">98.46%</td>\n",
    "  </tr>\n",
    "</table>\n",
    "\n",
    "<br>\n",
    "\n",
    "<h2>F1 Score</h2>\n",
    "<table style=\"font-size: 20px; text-align: left; border-collapse: collapse; width: 100%;\">\n",
    "  <tr>\n",
    "    <th style=\"border: 1px solid black;\">F1 Score</th>\n",
    "    <th style=\"border: 1px solid black;\">Before</th>\n",
    "    <th style=\"border: 1px solid black;\">After</th>\n",
    "  </tr>\n",
    "  <tr>\n",
    "    <td style=\"border: 1px solid black;\">Value</td>\n",
    "    <td style=\"border: 1px solid black;\">90.87%</td>\n",
    "    <td style=\"border: 1px solid black;\">98.11%</td>\n",
    "  </tr>\n",
    "</table>\n"
   ]
  },
  {
   "cell_type": "markdown",
   "id": "f435f1c8-ee56-4cfa-bab6-b80386814652",
   "metadata": {},
   "source": [
    "# 6. Others\n",
    "จากการ Train Model ข้างต้นที่สามารถทำนายโรคในทุเรียนได้แม่นยำมากขึ้น แต่ก็อาจมีรูปภาพบางส่วนที่ไม่ใช่ใบทุเรียนเมื่อนำไปทำนายแล้วยังมีค่าความน่าจะเป็นของตัวเลขในแต่ละ Class ที่สูง พวกเราจึงได้พัฒนา Model มาอีกตัวที่สามารถทำนายได้ว่าใบไม้ใบนี้เป็นใบทุเรียนหรือไม่"
   ]
  },
  {
   "cell_type": "markdown",
   "id": "e5bdc540-4ff4-4a20-8d55-90bcf57ca49a",
   "metadata": {},
   "source": [
    "## 6.1 Manage the data\n",
    "ทำการสร้าง Dataset อีกชุดซึ่งประกอบไปด้วย 2 Class คือ Durian leaf และ Non Durian Leaf ในส่วนของข้อมูลภาพ Durian Leaf เราจะใช้ข้อมูลภาพใบทุเรียนที่เก็บมาทั้งหมดจำนวน 1845 รูป และในส่วนของ Non Durian Leaf เราจะทำการหาภาพของวัตถุอื่นๆมาใช้เป็นdatasetโดยรูปที่นำมาใช้จะมีทั้งหมด 17 ประเภทดังนี้ อาคาร,หนังสือ,เสื้อผ้า,จักรยาน,เฟอร์นิเจอร์,อาหาร,รองเท้า,รถยนตร์,สัตว์,ต้นไม้,มนุษย์,ดอกไม้,อุปกรณ์กีฬา,เครื่องมือ,เครื่องดนตรี,ของเล่น,คอมพิวเตอร์ ประเภทละ 100 รูป ซึ่งรูปเหล่านี้สามารถใช้ library อย่าง Beautiful soup เพื่อ Download ภาพตามประเภทที่กำหนดไว้ได้\n"
   ]
  },
  {
   "cell_type": "markdown",
   "id": "cc373587-f22e-4d9a-91bd-30d9a12528ec",
   "metadata": {},
   "source": [
    "### Create folder train,test for contain the Durian leaf and Non Durian Leaf"
   ]
  },
  {
   "cell_type": "code",
   "execution_count": 118,
   "id": "d091c483-df47-45ad-9baa-d843fd04f7ad",
   "metadata": {},
   "outputs": [
    {
     "name": "stdout",
     "output_type": "stream",
     "text": [
      "Did not find data2/train/durian_leaf directory, creating one...\n",
      "Did not find data2/test/durian_leaf directory, creating one...\n"
     ]
    }
   ],
   "source": [
    "# Setup path to data folder\n",
    "data_path = Path(\"data2/\")\n",
    "train_path = data_path / \"train\" / \"durian_leaf\"\n",
    "test_path = data_path / \"test\" / \"durian_leaf\"\n",
    "\n",
    "# If the image folder doesn't exist, download it and prepare it...\n",
    "if train_path.is_dir():\n",
    "    print(f\"{train_path} directory exists.\")\n",
    "else:\n",
    "    print(f\"Did not find {train_path} directory, creating one...\")\n",
    "    train_path.mkdir(parents=True, exist_ok=True)\n",
    "\n",
    "if test_path.is_dir():\n",
    "    print(f\"{test_path} directory exists.\")\n",
    "else:\n",
    "    print(f\"Did not find {test_path} directory, creating one...\")\n",
    "    test_path.mkdir(parents=True, exist_ok=True)"
   ]
  },
  {
   "cell_type": "markdown",
   "id": "687bc4bf-5024-4937-94ec-d03c9f99f6fb",
   "metadata": {},
   "source": [
    "### Spilt the data for Durian Leaf class\n",
    "แบ่งข้อมูล Train:Test -> 70:30"
   ]
  },
  {
   "cell_type": "code",
   "execution_count": 121,
   "id": "0de7fa45-7649-4152-a26c-cbbb426fc763",
   "metadata": {},
   "outputs": [
    {
     "name": "stdout",
     "output_type": "stream",
     "text": [
      "Files successfully split into train and test sets.\n"
     ]
    }
   ],
   "source": [
    "import shutil\n",
    "from sklearn.model_selection import train_test_split\n",
    "import os\n",
    "\n",
    "# Define source and destination directories\n",
    "source_dir = '/Users/nut/Documents/AiDurian/dataset_durian'\n",
    "train_dir = '/Users/nut/Documents/AiDurian/data2/train/durian_leaf'\n",
    "test_dir = '/Users/nut/Documents/AiDurian/data2/test/durian_leaf'\n",
    "\n",
    "# Create the train and test directories if they don't exist\n",
    "os.makedirs(train_dir, exist_ok=True)\n",
    "os.makedirs(test_dir, exist_ok=True)\n",
    "\n",
    "# Get all class folders\n",
    "class_folders = os.listdir(source_dir)\n",
    "\n",
    "# Loop through each class folder\n",
    "for class_folder in class_folders:\n",
    "    class_path = os.path.join(source_dir, class_folder)\n",
    "\n",
    "    # Ensure it is a directory\n",
    "    if os.path.isdir(class_path):\n",
    "        # List all files in the current class folder\n",
    "        files = os.listdir(class_path)\n",
    "\n",
    "        # Split the files into training and testing sets (70% train, 30% test)\n",
    "        train_files, test_files = train_test_split(files, test_size=0.3, random_state=42)\n",
    "\n",
    "        # Move or copy training files into the common train directory\n",
    "        for file in train_files:\n",
    "            src_file = os.path.join(class_path, file)\n",
    "            dest_file = os.path.join(train_dir, file)  # No class subdirectories\n",
    "            shutil.copy(src_file, dest_file)  # Use shutil.move() to move instead of copy\n",
    "\n",
    "        # Move or copy testing files into the common test directory\n",
    "        for file in test_files:\n",
    "            src_file = os.path.join(class_path, file)\n",
    "            dest_file = os.path.join(test_dir, file)  # No class subdirectories\n",
    "            shutil.copy(src_file, dest_file)  # Use shutil.move() to move instead of copy\n",
    "\n",
    "print(\"Files successfully split into train and test sets.\")\n"
   ]
  },
  {
   "cell_type": "code",
   "execution_count": 123,
   "id": "92ab6c7e-774b-4eec-9469-8d08611becc7",
   "metadata": {},
   "outputs": [
    {
     "name": "stdout",
     "output_type": "stream",
     "text": [
      "There are 1289 images in /Users/nut/Documents/AiDurian/data2/train/durian_leaf\n"
     ]
    }
   ],
   "source": [
    "class_train  = os.path.join(train_dir)\n",
    "images_leafs_train = os.listdir(class_train)\n",
    "print(f\"There are {len(images_leafs_train)} images in {class_train}\")"
   ]
  },
  {
   "cell_type": "code",
   "execution_count": 124,
   "id": "1625661a-9604-4568-a027-2b1d0026c707",
   "metadata": {},
   "outputs": [
    {
     "name": "stdout",
     "output_type": "stream",
     "text": [
      "There are 556 images in /Users/nut/Documents/AiDurian/data2/test/durian_leaf\n"
     ]
    }
   ],
   "source": [
    "class_test  = os.path.join(test_dir)\n",
    "images_leafs_test = os.listdir(class_test)\n",
    "print(f\"There are {len(images_leafs_test)} images in {class_test}\")"
   ]
  },
  {
   "cell_type": "markdown",
   "id": "5c88eb1c-06e6-4f15-8c0d-2237968b97bf",
   "metadata": {},
   "source": [
    "### Downloading Non Durian Leaf Data by BeautifulSoup"
   ]
  },
  {
   "cell_type": "code",
   "execution_count": 131,
   "id": "315b34d9-5216-4ddc-a88c-ee39900f332e",
   "metadata": {},
   "outputs": [
    {
     "name": "stdout",
     "output_type": "stream",
     "text": [
      "Downloaded flowers_1.jpg\n",
      "Downloaded flowers_2.jpg\n",
      "Downloaded flowers_3.jpg\n",
      "Downloaded flowers_4.jpg\n",
      "Downloaded flowers_5.jpg\n",
      "Downloaded flowers_6.jpg\n",
      "Downloaded flowers_7.jpg\n",
      "Downloaded flowers_8.jpg\n",
      "Downloaded flowers_9.jpg\n",
      "Downloaded flowers_10.jpg\n",
      "Downloaded flowers_11.jpg\n",
      "Downloaded flowers_12.jpg\n",
      "Downloaded flowers_13.jpg\n",
      "Downloaded flowers_14.jpg\n",
      "Downloaded flowers_15.jpg\n",
      "Downloaded flowers_16.jpg\n",
      "Downloaded flowers_17.jpg\n",
      "Downloaded flowers_18.jpg\n",
      "Downloaded flowers_19.jpg\n",
      "Downloaded flowers_20.jpg\n",
      "Downloaded flowers_21.jpg\n",
      "Downloaded flowers_22.jpg\n",
      "Downloaded flowers_23.jpg\n",
      "Downloaded flowers_24.jpg\n",
      "Downloaded flowers_25.jpg\n",
      "Downloaded flowers_26.jpg\n",
      "Downloaded flowers_27.jpg\n",
      "Could not download data:image/gif;base64,R0lGODlhAQABAIAAAAAAAP///yH5BAEAAAEALAAAAAABAAEAAAIBTAA7: No connection adapters were found for 'data:image/gif;base64,R0lGODlhAQABAIAAAAAAAP///yH5BAEAAAEALAAAAAABAAEAAAIBTAA7'\n",
      "Downloaded flowers_28.jpg\n",
      "Downloaded flowers_29.jpg\n",
      "Downloaded flowers_30.jpg\n",
      "Downloaded flowers_31.jpg\n",
      "Downloaded flowers_32.jpg\n",
      "Downloaded flowers_33.jpg\n",
      "Downloaded flowers_34.jpg\n",
      "Downloaded flowers_35.jpg\n",
      "Downloaded flowers_36.jpg\n",
      "Downloaded flowers_37.jpg\n",
      "Downloaded flowers_38.jpg\n",
      "Downloaded flowers_39.jpg\n",
      "Downloaded flowers_40.jpg\n",
      "Downloaded flowers_41.jpg\n",
      "Downloaded flowers_42.jpg\n",
      "Downloaded flowers_43.jpg\n",
      "Downloaded flowers_44.jpg\n",
      "Downloaded flowers_45.jpg\n",
      "Downloaded flowers_46.jpg\n",
      "Downloaded flowers_47.jpg\n",
      "Downloaded flowers_48.jpg\n",
      "Downloaded flowers_49.jpg\n",
      "Downloaded flowers_50.jpg\n",
      "Downloaded flowers_51.jpg\n",
      "Downloaded flowers_52.jpg\n",
      "Downloaded flowers_53.jpg\n",
      "Downloaded flowers_54.jpg\n",
      "Downloaded flowers_55.jpg\n",
      "Downloaded flowers_56.jpg\n",
      "Downloaded flowers_57.jpg\n",
      "Downloaded flowers_58.jpg\n",
      "Downloaded flowers_59.jpg\n",
      "Downloaded flowers_60.jpg\n",
      "Downloaded flowers_61.jpg\n",
      "Downloaded flowers_62.jpg\n",
      "Downloaded flowers_63.jpg\n",
      "Downloaded flowers_64.jpg\n",
      "Downloaded flowers_65.jpg\n",
      "Downloaded flowers_66.jpg\n",
      "Downloaded flowers_67.jpg\n",
      "Downloaded flowers_68.jpg\n",
      "Downloaded flowers_69.jpg\n",
      "Downloaded flowers_70.jpg\n",
      "Downloaded flowers_71.jpg\n",
      "Downloaded flowers_72.jpg\n",
      "Downloaded flowers_73.jpg\n",
      "Downloaded flowers_74.jpg\n",
      "Downloaded flowers_75.jpg\n",
      "Downloaded flowers_76.jpg\n",
      "Downloaded flowers_77.jpg\n",
      "Downloaded flowers_78.jpg\n",
      "Downloaded flowers_79.jpg\n",
      "Downloaded flowers_80.jpg\n",
      "Downloaded flowers_81.jpg\n",
      "Downloaded flowers_82.jpg\n",
      "Downloaded flowers_83.jpg\n",
      "Downloaded flowers_84.jpg\n",
      "Downloaded flowers_85.jpg\n",
      "Downloaded flowers_86.jpg\n",
      "Downloaded flowers_87.jpg\n",
      "Downloaded flowers_88.jpg\n",
      "Downloaded flowers_89.jpg\n",
      "Downloaded flowers_90.jpg\n",
      "Downloaded flowers_91.jpg\n",
      "Downloaded flowers_92.jpg\n",
      "Downloaded flowers_93.jpg\n",
      "Downloaded flowers_94.jpg\n",
      "Downloaded flowers_95.jpg\n",
      "Downloaded flowers_96.jpg\n",
      "Downloaded flowers_97.jpg\n",
      "Downloaded flowers_98.jpg\n",
      "Downloaded flowers_99.jpg\n",
      "Downloaded flowers_100.jpg\n",
      "Downloaded Sports equipment_1.jpg\n",
      "Downloaded Sports equipment_2.jpg\n",
      "Downloaded Sports equipment_3.jpg\n",
      "Downloaded Sports equipment_4.jpg\n",
      "Downloaded Sports equipment_5.jpg\n",
      "Downloaded Sports equipment_6.jpg\n",
      "Downloaded Sports equipment_7.jpg\n",
      "Downloaded Sports equipment_8.jpg\n",
      "Downloaded Sports equipment_9.jpg\n",
      "Downloaded Sports equipment_10.jpg\n",
      "Downloaded Sports equipment_11.jpg\n",
      "Downloaded Sports equipment_12.jpg\n",
      "Downloaded Sports equipment_13.jpg\n",
      "Downloaded Sports equipment_14.jpg\n",
      "Downloaded Sports equipment_15.jpg\n",
      "Could not download data:image/gif;base64,R0lGODlhAQABAIAAAAAAAP///yH5BAEAAAEALAAAAAABAAEAAAIBTAA7: No connection adapters were found for 'data:image/gif;base64,R0lGODlhAQABAIAAAAAAAP///yH5BAEAAAEALAAAAAABAAEAAAIBTAA7'\n",
      "Downloaded Sports equipment_16.jpg\n",
      "Downloaded Sports equipment_17.jpg\n",
      "Downloaded Sports equipment_18.jpg\n",
      "Downloaded Sports equipment_19.jpg\n",
      "Downloaded Sports equipment_20.jpg\n",
      "Downloaded Sports equipment_21.jpg\n",
      "Downloaded Sports equipment_22.jpg\n",
      "Downloaded Sports equipment_23.jpg\n",
      "Downloaded Sports equipment_24.jpg\n",
      "Downloaded Sports equipment_25.jpg\n",
      "Downloaded Sports equipment_26.jpg\n",
      "Downloaded Sports equipment_27.jpg\n",
      "Downloaded Sports equipment_28.jpg\n",
      "Downloaded Sports equipment_29.jpg\n",
      "Downloaded Sports equipment_30.jpg\n",
      "Downloaded Sports equipment_31.jpg\n",
      "Downloaded Sports equipment_32.jpg\n",
      "Downloaded Sports equipment_33.jpg\n",
      "Downloaded Sports equipment_34.jpg\n",
      "Downloaded Sports equipment_35.jpg\n",
      "Downloaded Sports equipment_36.jpg\n",
      "Downloaded Sports equipment_37.jpg\n",
      "Downloaded Sports equipment_38.jpg\n",
      "Downloaded Sports equipment_39.jpg\n",
      "Downloaded Sports equipment_40.jpg\n",
      "Downloaded Sports equipment_41.jpg\n",
      "Downloaded Sports equipment_42.jpg\n",
      "Downloaded Sports equipment_43.jpg\n",
      "Downloaded Sports equipment_44.jpg\n",
      "Downloaded Sports equipment_45.jpg\n",
      "Downloaded Sports equipment_46.jpg\n",
      "Downloaded Sports equipment_47.jpg\n",
      "Downloaded Sports equipment_48.jpg\n",
      "Downloaded Sports equipment_49.jpg\n",
      "Downloaded Sports equipment_50.jpg\n",
      "Downloaded Sports equipment_51.jpg\n",
      "Downloaded Sports equipment_52.jpg\n",
      "Downloaded Sports equipment_53.jpg\n",
      "Downloaded Sports equipment_54.jpg\n",
      "Downloaded Sports equipment_55.jpg\n",
      "Downloaded Sports equipment_56.jpg\n",
      "Downloaded Sports equipment_57.jpg\n",
      "Downloaded Sports equipment_58.jpg\n",
      "Downloaded Sports equipment_59.jpg\n",
      "Downloaded Sports equipment_60.jpg\n",
      "Downloaded Sports equipment_61.jpg\n",
      "Downloaded Sports equipment_62.jpg\n",
      "Downloaded Sports equipment_63.jpg\n",
      "Downloaded Sports equipment_64.jpg\n",
      "Downloaded Sports equipment_65.jpg\n",
      "Downloaded Sports equipment_66.jpg\n",
      "Downloaded Sports equipment_67.jpg\n",
      "Downloaded Sports equipment_68.jpg\n",
      "Downloaded Sports equipment_69.jpg\n",
      "Downloaded Sports equipment_70.jpg\n",
      "Downloaded Sports equipment_71.jpg\n",
      "Downloaded Sports equipment_72.jpg\n",
      "Downloaded Sports equipment_73.jpg\n",
      "Downloaded Sports equipment_74.jpg\n",
      "Downloaded Sports equipment_75.jpg\n",
      "Downloaded Sports equipment_76.jpg\n",
      "Downloaded Sports equipment_77.jpg\n",
      "Downloaded Sports equipment_78.jpg\n",
      "Downloaded Sports equipment_79.jpg\n",
      "Downloaded Sports equipment_80.jpg\n",
      "Downloaded Sports equipment_81.jpg\n",
      "Downloaded Sports equipment_82.jpg\n",
      "Downloaded Sports equipment_83.jpg\n",
      "Downloaded Sports equipment_84.jpg\n",
      "Downloaded Sports equipment_85.jpg\n",
      "Downloaded Sports equipment_86.jpg\n",
      "Downloaded Sports equipment_87.jpg\n",
      "Downloaded Sports equipment_88.jpg\n",
      "Downloaded Sports equipment_89.jpg\n",
      "Downloaded Sports equipment_90.jpg\n",
      "Downloaded Sports equipment_91.jpg\n",
      "Downloaded Sports equipment_92.jpg\n",
      "Downloaded Sports equipment_93.jpg\n",
      "Downloaded Sports equipment_94.jpg\n",
      "Downloaded Sports equipment_95.jpg\n",
      "Downloaded Sports equipment_96.jpg\n",
      "Downloaded Sports equipment_97.jpg\n",
      "Downloaded Sports equipment_98.jpg\n",
      "Downloaded Sports equipment_99.jpg\n",
      "Downloaded Sports equipment_100.jpg\n",
      "Downloaded Tools_1.jpg\n",
      "Downloaded Tools_2.jpg\n",
      "Downloaded Tools_3.jpg\n",
      "Downloaded Tools_4.jpg\n",
      "Downloaded Tools_5.jpg\n",
      "Downloaded Tools_6.jpg\n",
      "Downloaded Tools_7.jpg\n",
      "Downloaded Tools_8.jpg\n",
      "Downloaded Tools_9.jpg\n",
      "Downloaded Tools_10.jpg\n",
      "Downloaded Tools_11.jpg\n",
      "Downloaded Tools_12.jpg\n",
      "Downloaded Tools_13.jpg\n",
      "Downloaded Tools_14.jpg\n",
      "Downloaded Tools_15.jpg\n",
      "Downloaded Tools_16.jpg\n",
      "Downloaded Tools_17.jpg\n",
      "Downloaded Tools_18.jpg\n",
      "Downloaded Tools_19.jpg\n",
      "Downloaded Tools_20.jpg\n",
      "Downloaded Tools_21.jpg\n",
      "Downloaded Tools_22.jpg\n",
      "Downloaded Tools_23.jpg\n",
      "Downloaded Tools_24.jpg\n",
      "Downloaded Tools_25.jpg\n",
      "Downloaded Tools_26.jpg\n",
      "Downloaded Tools_27.jpg\n",
      "Downloaded Tools_28.jpg\n",
      "Downloaded Tools_29.jpg\n",
      "Downloaded Tools_30.jpg\n",
      "Downloaded Tools_31.jpg\n",
      "Downloaded Tools_32.jpg\n",
      "Downloaded Tools_33.jpg\n",
      "Downloaded Tools_34.jpg\n",
      "Downloaded Tools_35.jpg\n",
      "Downloaded Tools_36.jpg\n",
      "Downloaded Tools_37.jpg\n",
      "Downloaded Tools_38.jpg\n",
      "Downloaded Tools_39.jpg\n",
      "Downloaded Tools_40.jpg\n",
      "Downloaded Tools_41.jpg\n",
      "Downloaded Tools_42.jpg\n",
      "Downloaded Tools_43.jpg\n",
      "Downloaded Tools_44.jpg\n",
      "Downloaded Tools_45.jpg\n",
      "Downloaded Tools_46.jpg\n",
      "Downloaded Tools_47.jpg\n",
      "Downloaded Tools_48.jpg\n",
      "Downloaded Tools_49.jpg\n",
      "Downloaded Tools_50.jpg\n",
      "Downloaded Tools_51.jpg\n",
      "Downloaded Tools_52.jpg\n",
      "Downloaded Tools_53.jpg\n",
      "Downloaded Tools_54.jpg\n",
      "Downloaded Tools_55.jpg\n",
      "Downloaded Tools_56.jpg\n",
      "Downloaded Tools_57.jpg\n",
      "Downloaded Tools_58.jpg\n",
      "Downloaded Tools_59.jpg\n",
      "Downloaded Tools_60.jpg\n",
      "Downloaded Tools_61.jpg\n",
      "Downloaded Tools_62.jpg\n",
      "Downloaded Tools_63.jpg\n",
      "Downloaded Tools_64.jpg\n",
      "Downloaded Tools_65.jpg\n",
      "Downloaded Tools_66.jpg\n",
      "Downloaded Tools_67.jpg\n",
      "Downloaded Tools_68.jpg\n",
      "Downloaded Tools_69.jpg\n",
      "Downloaded Tools_70.jpg\n",
      "Downloaded Tools_71.jpg\n",
      "Downloaded Tools_72.jpg\n",
      "Could not download data:image/gif;base64,R0lGODlhAQABAIAAAAAAAP///yH5BAEAAAEALAAAAAABAAEAAAIBTAA7: No connection adapters were found for 'data:image/gif;base64,R0lGODlhAQABAIAAAAAAAP///yH5BAEAAAEALAAAAAABAAEAAAIBTAA7'\n",
      "Could not download data:image/gif;base64,R0lGODlhAQABAIAAAAAAAP///yH5BAEAAAEALAAAAAABAAEAAAIBTAA7: No connection adapters were found for 'data:image/gif;base64,R0lGODlhAQABAIAAAAAAAP///yH5BAEAAAEALAAAAAABAAEAAAIBTAA7'\n",
      "Downloaded Tools_73.jpg\n",
      "Downloaded Tools_74.jpg\n",
      "Could not download data:image/gif;base64,R0lGODlhAQABAIAAAAAAAP///yH5BAEAAAEALAAAAAABAAEAAAIBTAA7: No connection adapters were found for 'data:image/gif;base64,R0lGODlhAQABAIAAAAAAAP///yH5BAEAAAEALAAAAAABAAEAAAIBTAA7'\n",
      "Downloaded Tools_75.jpg\n",
      "Downloaded Tools_76.jpg\n",
      "Downloaded Tools_77.jpg\n",
      "Downloaded Tools_78.jpg\n",
      "Downloaded Tools_79.jpg\n",
      "Downloaded Tools_80.jpg\n",
      "Downloaded Tools_81.jpg\n",
      "Downloaded Tools_82.jpg\n",
      "Downloaded Tools_83.jpg\n",
      "Downloaded Tools_84.jpg\n",
      "Downloaded Tools_85.jpg\n",
      "Downloaded Tools_86.jpg\n",
      "Downloaded Tools_87.jpg\n",
      "Downloaded Tools_88.jpg\n",
      "Downloaded Tools_89.jpg\n",
      "Downloaded Tools_90.jpg\n",
      "Downloaded Tools_91.jpg\n",
      "Downloaded Tools_92.jpg\n",
      "Downloaded Tools_93.jpg\n",
      "Downloaded Tools_94.jpg\n",
      "Downloaded Tools_95.jpg\n",
      "Downloaded Tools_96.jpg\n",
      "Downloaded Tools_97.jpg\n",
      "Downloaded Tools_98.jpg\n",
      "Downloaded Tools_99.jpg\n",
      "Downloaded Tools_100.jpg\n",
      "Could not download data:image/gif;base64,R0lGODlhAQABAIAAAAAAAP///yH5BAEAAAEALAAAAAABAAEAAAIBTAA7: No connection adapters were found for 'data:image/gif;base64,R0lGODlhAQABAIAAAAAAAP///yH5BAEAAAEALAAAAAABAAEAAAIBTAA7'\n",
      "Could not download data:image/gif;base64,R0lGODlhAQABAIAAAAAAAP///yH5BAEAAAEALAAAAAABAAEAAAIBTAA7: No connection adapters were found for 'data:image/gif;base64,R0lGODlhAQABAIAAAAAAAP///yH5BAEAAAEALAAAAAABAAEAAAIBTAA7'\n",
      "Could not download data:image/gif;base64,R0lGODlhAQABAIAAAAAAAP///yH5BAEAAAEALAAAAAABAAEAAAIBTAA7: No connection adapters were found for 'data:image/gif;base64,R0lGODlhAQABAIAAAAAAAP///yH5BAEAAAEALAAAAAABAAEAAAIBTAA7'\n",
      "Could not download data:image/gif;base64,R0lGODlhAQABAIAAAAAAAP///yH5BAEAAAEALAAAAAABAAEAAAIBTAA7: No connection adapters were found for 'data:image/gif;base64,R0lGODlhAQABAIAAAAAAAP///yH5BAEAAAEALAAAAAABAAEAAAIBTAA7'\n",
      "Downloaded Musical instruments_1.jpg\n",
      "Downloaded Musical instruments_2.jpg\n",
      "Downloaded Musical instruments_3.jpg\n",
      "Downloaded Musical instruments_4.jpg\n",
      "Downloaded Musical instruments_5.jpg\n",
      "Downloaded Musical instruments_6.jpg\n",
      "Downloaded Musical instruments_7.jpg\n",
      "Downloaded Musical instruments_8.jpg\n",
      "Downloaded Musical instruments_9.jpg\n",
      "Downloaded Musical instruments_10.jpg\n",
      "Downloaded Musical instruments_11.jpg\n",
      "Downloaded Musical instruments_12.jpg\n",
      "Downloaded Musical instruments_13.jpg\n",
      "Downloaded Musical instruments_14.jpg\n",
      "Downloaded Musical instruments_15.jpg\n",
      "Downloaded Musical instruments_16.jpg\n",
      "Downloaded Musical instruments_17.jpg\n",
      "Downloaded Musical instruments_18.jpg\n",
      "Could not download data:image/gif;base64,R0lGODlhAQABAIAAAAAAAP///yH5BAEAAAEALAAAAAABAAEAAAIBTAA7: No connection adapters were found for 'data:image/gif;base64,R0lGODlhAQABAIAAAAAAAP///yH5BAEAAAEALAAAAAABAAEAAAIBTAA7'\n",
      "Downloaded Musical instruments_19.jpg\n",
      "Downloaded Musical instruments_20.jpg\n",
      "Downloaded Musical instruments_21.jpg\n",
      "Downloaded Musical instruments_22.jpg\n",
      "Downloaded Musical instruments_23.jpg\n",
      "Downloaded Musical instruments_24.jpg\n",
      "Downloaded Musical instruments_25.jpg\n",
      "Downloaded Musical instruments_26.jpg\n",
      "Downloaded Musical instruments_27.jpg\n",
      "Downloaded Musical instruments_28.jpg\n",
      "Downloaded Musical instruments_29.jpg\n",
      "Downloaded Musical instruments_30.jpg\n",
      "Downloaded Musical instruments_31.jpg\n",
      "Downloaded Musical instruments_32.jpg\n",
      "Downloaded Musical instruments_33.jpg\n",
      "Downloaded Musical instruments_34.jpg\n",
      "Downloaded Musical instruments_35.jpg\n",
      "Downloaded Musical instruments_36.jpg\n",
      "Downloaded Musical instruments_37.jpg\n",
      "Downloaded Musical instruments_38.jpg\n",
      "Downloaded Musical instruments_39.jpg\n",
      "Downloaded Musical instruments_40.jpg\n",
      "Downloaded Musical instruments_41.jpg\n",
      "Downloaded Musical instruments_42.jpg\n",
      "Downloaded Musical instruments_43.jpg\n",
      "Downloaded Musical instruments_44.jpg\n",
      "Downloaded Musical instruments_45.jpg\n",
      "Downloaded Musical instruments_46.jpg\n",
      "Downloaded Musical instruments_47.jpg\n",
      "Downloaded Musical instruments_48.jpg\n",
      "Downloaded Musical instruments_49.jpg\n",
      "Downloaded Musical instruments_50.jpg\n",
      "Downloaded Musical instruments_51.jpg\n",
      "Downloaded Musical instruments_52.jpg\n",
      "Downloaded Musical instruments_53.jpg\n",
      "Downloaded Musical instruments_54.jpg\n",
      "Downloaded Musical instruments_55.jpg\n",
      "Downloaded Musical instruments_56.jpg\n",
      "Downloaded Musical instruments_57.jpg\n",
      "Downloaded Musical instruments_58.jpg\n",
      "Downloaded Musical instruments_59.jpg\n",
      "Downloaded Musical instruments_60.jpg\n",
      "Downloaded Musical instruments_61.jpg\n",
      "Downloaded Musical instruments_62.jpg\n",
      "Downloaded Musical instruments_63.jpg\n",
      "Downloaded Musical instruments_64.jpg\n",
      "Downloaded Musical instruments_65.jpg\n",
      "Downloaded Musical instruments_66.jpg\n",
      "Downloaded Musical instruments_67.jpg\n",
      "Downloaded Musical instruments_68.jpg\n",
      "Downloaded Musical instruments_69.jpg\n",
      "Downloaded Musical instruments_70.jpg\n",
      "Downloaded Musical instruments_71.jpg\n",
      "Downloaded Musical instruments_72.jpg\n",
      "Downloaded Musical instruments_73.jpg\n",
      "Downloaded Musical instruments_74.jpg\n",
      "Downloaded Musical instruments_75.jpg\n",
      "Downloaded Musical instruments_76.jpg\n",
      "Downloaded Musical instruments_77.jpg\n",
      "Downloaded Musical instruments_78.jpg\n",
      "Downloaded Musical instruments_79.jpg\n",
      "Downloaded Musical instruments_80.jpg\n",
      "Downloaded Musical instruments_81.jpg\n",
      "Downloaded Musical instruments_82.jpg\n",
      "Downloaded Musical instruments_83.jpg\n",
      "Downloaded Musical instruments_84.jpg\n",
      "Downloaded Musical instruments_85.jpg\n",
      "Downloaded Musical instruments_86.jpg\n",
      "Downloaded Musical instruments_87.jpg\n",
      "Downloaded Musical instruments_88.jpg\n",
      "Downloaded Musical instruments_89.jpg\n",
      "Downloaded Musical instruments_90.jpg\n",
      "Downloaded Musical instruments_91.jpg\n",
      "Downloaded Musical instruments_92.jpg\n",
      "Downloaded Musical instruments_93.jpg\n",
      "Downloaded Musical instruments_94.jpg\n",
      "Downloaded Musical instruments_95.jpg\n",
      "Downloaded Musical instruments_96.jpg\n",
      "Downloaded Musical instruments_97.jpg\n",
      "Downloaded Musical instruments_98.jpg\n",
      "Downloaded Musical instruments_99.jpg\n",
      "Downloaded Musical instruments_100.jpg\n",
      "Downloaded Toys_1.jpg\n",
      "Downloaded Toys_2.jpg\n",
      "Downloaded Toys_3.jpg\n",
      "Downloaded Toys_4.jpg\n",
      "Downloaded Toys_5.jpg\n",
      "Downloaded Toys_6.jpg\n",
      "Downloaded Toys_7.jpg\n",
      "Downloaded Toys_8.jpg\n",
      "Downloaded Toys_9.jpg\n",
      "Downloaded Toys_10.jpg\n",
      "Downloaded Toys_11.jpg\n",
      "Downloaded Toys_12.jpg\n",
      "Downloaded Toys_13.jpg\n",
      "Downloaded Toys_14.jpg\n",
      "Downloaded Toys_15.jpg\n",
      "Downloaded Toys_16.jpg\n",
      "Downloaded Toys_17.jpg\n",
      "Downloaded Toys_18.jpg\n",
      "Downloaded Toys_19.jpg\n",
      "Downloaded Toys_20.jpg\n",
      "Downloaded Toys_21.jpg\n",
      "Downloaded Toys_22.jpg\n",
      "Downloaded Toys_23.jpg\n",
      "Downloaded Toys_24.jpg\n",
      "Downloaded Toys_25.jpg\n",
      "Downloaded Toys_26.jpg\n",
      "Downloaded Toys_27.jpg\n",
      "Downloaded Toys_28.jpg\n",
      "Downloaded Toys_29.jpg\n",
      "Downloaded Toys_30.jpg\n",
      "Downloaded Toys_31.jpg\n",
      "Downloaded Toys_32.jpg\n",
      "Downloaded Toys_33.jpg\n",
      "Downloaded Toys_34.jpg\n",
      "Downloaded Toys_35.jpg\n",
      "Downloaded Toys_36.jpg\n",
      "Downloaded Toys_37.jpg\n",
      "Downloaded Toys_38.jpg\n",
      "Downloaded Toys_39.jpg\n",
      "Downloaded Toys_40.jpg\n",
      "Downloaded Toys_41.jpg\n",
      "Downloaded Toys_42.jpg\n",
      "Downloaded Toys_43.jpg\n",
      "Downloaded Toys_44.jpg\n",
      "Downloaded Toys_45.jpg\n",
      "Downloaded Toys_46.jpg\n",
      "Downloaded Toys_47.jpg\n",
      "Downloaded Toys_48.jpg\n",
      "Downloaded Toys_49.jpg\n",
      "Downloaded Toys_50.jpg\n",
      "Downloaded Toys_51.jpg\n",
      "Downloaded Toys_52.jpg\n",
      "Downloaded Toys_53.jpg\n",
      "Downloaded Toys_54.jpg\n",
      "Downloaded Toys_55.jpg\n",
      "Downloaded Toys_56.jpg\n",
      "Downloaded Toys_57.jpg\n",
      "Downloaded Toys_58.jpg\n",
      "Downloaded Toys_59.jpg\n",
      "Downloaded Toys_60.jpg\n",
      "Downloaded Toys_61.jpg\n",
      "Downloaded Toys_62.jpg\n",
      "Downloaded Toys_63.jpg\n",
      "Downloaded Toys_64.jpg\n",
      "Downloaded Toys_65.jpg\n",
      "Downloaded Toys_66.jpg\n",
      "Could not download data:image/gif;base64,R0lGODlhAQABAIAAAAAAAP///yH5BAEAAAEALAAAAAABAAEAAAIBTAA7: No connection adapters were found for 'data:image/gif;base64,R0lGODlhAQABAIAAAAAAAP///yH5BAEAAAEALAAAAAABAAEAAAIBTAA7'\n",
      "Downloaded Toys_67.jpg\n",
      "Downloaded Toys_68.jpg\n",
      "Downloaded Toys_69.jpg\n",
      "Downloaded Toys_70.jpg\n",
      "Downloaded Toys_71.jpg\n",
      "Downloaded Toys_72.jpg\n",
      "Downloaded Toys_73.jpg\n",
      "Downloaded Toys_74.jpg\n",
      "Downloaded Toys_75.jpg\n",
      "Downloaded Toys_76.jpg\n",
      "Downloaded Toys_77.jpg\n",
      "Downloaded Toys_78.jpg\n",
      "Downloaded Toys_79.jpg\n",
      "Downloaded Toys_80.jpg\n",
      "Downloaded Toys_81.jpg\n",
      "Downloaded Toys_82.jpg\n",
      "Downloaded Toys_83.jpg\n",
      "Downloaded Toys_84.jpg\n",
      "Downloaded Toys_85.jpg\n",
      "Downloaded Toys_86.jpg\n",
      "Downloaded Toys_87.jpg\n",
      "Downloaded Toys_88.jpg\n",
      "Downloaded Toys_89.jpg\n",
      "Downloaded Toys_90.jpg\n",
      "Downloaded Toys_91.jpg\n",
      "Downloaded Toys_92.jpg\n",
      "Downloaded Toys_93.jpg\n",
      "Downloaded Toys_94.jpg\n",
      "Downloaded Toys_95.jpg\n",
      "Downloaded Toys_96.jpg\n",
      "Downloaded Toys_97.jpg\n",
      "Downloaded Toys_98.jpg\n",
      "Downloaded Toys_99.jpg\n",
      "Downloaded Toys_100.jpg\n",
      "Downloaded computers_1.jpg\n",
      "Downloaded computers_2.jpg\n",
      "Downloaded computers_3.jpg\n",
      "Downloaded computers_4.jpg\n",
      "Downloaded computers_5.jpg\n",
      "Downloaded computers_6.jpg\n",
      "Downloaded computers_7.jpg\n",
      "Downloaded computers_8.jpg\n",
      "Downloaded computers_9.jpg\n",
      "Downloaded computers_10.jpg\n",
      "Downloaded computers_11.jpg\n",
      "Downloaded computers_12.jpg\n",
      "Downloaded computers_13.jpg\n",
      "Downloaded computers_14.jpg\n",
      "Downloaded computers_15.jpg\n",
      "Downloaded computers_16.jpg\n",
      "Downloaded computers_17.jpg\n",
      "Downloaded computers_18.jpg\n",
      "Downloaded computers_19.jpg\n",
      "Downloaded computers_20.jpg\n",
      "Downloaded computers_21.jpg\n",
      "Downloaded computers_22.jpg\n",
      "Downloaded computers_23.jpg\n",
      "Downloaded computers_24.jpg\n",
      "Downloaded computers_25.jpg\n",
      "Downloaded computers_26.jpg\n",
      "Downloaded computers_27.jpg\n",
      "Downloaded computers_28.jpg\n",
      "Could not download data:image/gif;base64,R0lGODlhAQABAIAAAAAAAP///yH5BAEAAAEALAAAAAABAAEAAAIBTAA7: No connection adapters were found for 'data:image/gif;base64,R0lGODlhAQABAIAAAAAAAP///yH5BAEAAAEALAAAAAABAAEAAAIBTAA7'\n",
      "Downloaded computers_29.jpg\n",
      "Downloaded computers_30.jpg\n",
      "Downloaded computers_31.jpg\n",
      "Downloaded computers_32.jpg\n",
      "Downloaded computers_33.jpg\n",
      "Downloaded computers_34.jpg\n",
      "Downloaded computers_35.jpg\n",
      "Downloaded computers_36.jpg\n",
      "Downloaded computers_37.jpg\n",
      "Downloaded computers_38.jpg\n",
      "Downloaded computers_39.jpg\n",
      "Downloaded computers_40.jpg\n",
      "Downloaded computers_41.jpg\n",
      "Downloaded computers_42.jpg\n",
      "Downloaded computers_43.jpg\n",
      "Downloaded computers_44.jpg\n",
      "Downloaded computers_45.jpg\n",
      "Downloaded computers_46.jpg\n",
      "Downloaded computers_47.jpg\n",
      "Downloaded computers_48.jpg\n",
      "Downloaded computers_49.jpg\n",
      "Downloaded computers_50.jpg\n",
      "Downloaded computers_51.jpg\n",
      "Downloaded computers_52.jpg\n",
      "Downloaded computers_53.jpg\n",
      "Downloaded computers_54.jpg\n",
      "Downloaded computers_55.jpg\n",
      "Downloaded computers_56.jpg\n",
      "Downloaded computers_57.jpg\n",
      "Downloaded computers_58.jpg\n",
      "Downloaded computers_59.jpg\n",
      "Downloaded computers_60.jpg\n",
      "Downloaded computers_61.jpg\n",
      "Downloaded computers_62.jpg\n",
      "Downloaded computers_63.jpg\n",
      "Downloaded computers_64.jpg\n",
      "Downloaded computers_65.jpg\n",
      "Downloaded computers_66.jpg\n",
      "Downloaded computers_67.jpg\n",
      "Downloaded computers_68.jpg\n",
      "Downloaded computers_69.jpg\n",
      "Downloaded computers_70.jpg\n",
      "Downloaded computers_71.jpg\n",
      "Downloaded computers_72.jpg\n",
      "Downloaded computers_73.jpg\n",
      "Downloaded computers_74.jpg\n",
      "Downloaded computers_75.jpg\n",
      "Downloaded computers_76.jpg\n",
      "Downloaded computers_77.jpg\n",
      "Downloaded computers_78.jpg\n",
      "Could not download data:image/gif;base64,R0lGODlhAQABAIAAAAAAAP///yH5BAEAAAEALAAAAAABAAEAAAIBTAA7: No connection adapters were found for 'data:image/gif;base64,R0lGODlhAQABAIAAAAAAAP///yH5BAEAAAEALAAAAAABAAEAAAIBTAA7'\n",
      "Downloaded computers_79.jpg\n",
      "Downloaded computers_80.jpg\n",
      "Downloaded computers_81.jpg\n",
      "Downloaded computers_82.jpg\n",
      "Downloaded computers_83.jpg\n",
      "Downloaded computers_84.jpg\n",
      "Downloaded computers_85.jpg\n",
      "Downloaded computers_86.jpg\n",
      "Downloaded computers_87.jpg\n",
      "Downloaded computers_88.jpg\n",
      "Downloaded computers_89.jpg\n",
      "Downloaded computers_90.jpg\n",
      "Downloaded computers_91.jpg\n",
      "Downloaded computers_92.jpg\n",
      "Downloaded computers_93.jpg\n",
      "Downloaded computers_94.jpg\n",
      "Downloaded computers_95.jpg\n",
      "Downloaded computers_96.jpg\n",
      "Downloaded computers_97.jpg\n",
      "Downloaded computers_98.jpg\n",
      "Downloaded computers_99.jpg\n",
      "Downloaded computers_100.jpg\n"
     ]
    }
   ],
   "source": [
    "categories = [\n",
    "    \"buildings\", \"books\", \"clothes\", \"food\",\"bikes\",\"furniture\", \"shoes\",\"cars\", \"animals\", \"trees\", \"humans\",\n",
    "     \"flowers\",\"Sports equipment\", \"Tools\", \"Musical instruments\",\"Toys\", \"computers\"\n",
    "]\n",
    "\n",
    "# Create directories for train, valid, and test splits\n",
    "base_dir = data_path\n",
    "for split in ['train', 'test']:\n",
    "    os.makedirs(os.path.join(base_dir, split, 'non_durian_leaf'), exist_ok=True)\n",
    "\n",
    "# Function to download images from Bing\n",
    "def download_bing_images(search_term, required_num_images, output_dir):\n",
    "    headers = {\n",
    "        \"User-Agent\": \"Mozilla/5.0 (Windows NT 10.0; Win64; x64) AppleWebKit/537.36 (KHTML, like Gecko) Chrome/58.0.3029.110 Safari/537.3\"\n",
    "    }\n",
    "\n",
    "    downloaded_images = 0\n",
    "\n",
    "    while downloaded_images < required_num_images:\n",
    "        search_url = f\"https://www.bing.com/images/search?q={search_term}&form=HDRSC2&first={downloaded_images+1}&scenario=ImageBasicHover\"\n",
    "\n",
    "        response = requests.get(search_url, headers=headers)\n",
    "        soup = BeautifulSoup(response.text, 'html.parser')\n",
    "\n",
    "        # Find image elements\n",
    "        img_elements = soup.find_all('img', class_='mimg')\n",
    "        img_urls = [img['src'] for img in img_elements if 'src' in img.attrs]\n",
    "\n",
    "        # Ensure we only download the remaining number of required images\n",
    "        img_urls = img_urls[:required_num_images - downloaded_images]\n",
    "\n",
    "        for i, url in enumerate(img_urls):\n",
    "            try:\n",
    "                img_data = requests.get(url).content\n",
    "                with open(os.path.join(output_dir, f'{search_term}_{downloaded_images + i}.jpg'), 'wb') as handler:\n",
    "                    handler.write(img_data)\n",
    "                downloaded_images += 1\n",
    "                print(f\"Downloaded {search_term}_{downloaded_images}.jpg\")\n",
    "            except Exception as e:\n",
    "                print(f'Could not download {url}: {e}')\n",
    "\n",
    "        time.sleep(2)  # Sleep for 2 seconds to avoid getting blocked\n",
    "\n",
    "# Download images for each category and organize them into a specific directory\n",
    "required_images_per_category = 100  # Adjust as needed for your total dataset size\n",
    "\n",
    "for category in categories:\n",
    "    category_dir = os.path.join(\"negative_samples\", category)\n",
    "    os.makedirs(category_dir, exist_ok=True)\n",
    "\n",
    "    # Download images for the current category\n",
    "    download_bing_images(category, required_images_per_category, category_dir)\n",
    "\n",
    "    # Sleep to avoid overwhelming the server\n",
    "    time.sleep(3)  # Sleep for 3 seconds between categories\n"
   ]
  },
  {
   "cell_type": "markdown",
   "id": "4c3fb610-12cf-4e5e-9d09-037a63f43af2",
   "metadata": {},
   "source": [
    "### Split the data for non durian leaf to train:test -> 70:30 "
   ]
  },
  {
   "cell_type": "code",
   "execution_count": 135,
   "id": "00ae0b1d-9a78-4ba3-9ada-e2df8175a178",
   "metadata": {},
   "outputs": [
    {
     "name": "stdout",
     "output_type": "stream",
     "text": [
      "Images successfully split and moved into train and test directories.\n"
     ]
    }
   ],
   "source": [
    "# Function to split dataset into train/test (70% train, 30% test)\n",
    "def split_dataset(folder, train_size=0.7, test_size=0.3):\n",
    "    all_images = os.listdir(folder)\n",
    "\n",
    "    # Split images into train (70%) and test (30%)\n",
    "    train, test = train_test_split(all_images, test_size=test_size, random_state=42)\n",
    "\n",
    "    return train, test\n",
    "\n",
    "# Split images for each category\n",
    "for category in categories:\n",
    "    category_path = os.path.join(\"negative_samples\", category)\n",
    "    if os.path.exists(category_path):\n",
    "        # Split images into train and test\n",
    "        train, test = split_dataset(category_path)\n",
    "\n",
    "        # Move images to the respective directories\n",
    "        for split, images in zip(['train', 'test'], [train, test]):\n",
    "            for img in images:\n",
    "                src = os.path.join(category_path, img)\n",
    "                dst = os.path.join(base_dir, split, 'non_durian_leaf', img)\n",
    "                shutil.move(src, dst)\n",
    "\n",
    "print(\"Images successfully split and moved into train and test directories.\")"
   ]
  },
  {
   "cell_type": "markdown",
   "id": "49026716-0c48-455b-b7bc-d564eb5459ce",
   "metadata": {},
   "source": [
    "### Data Tranforming\n",
    "การทำ Data Transforming จะมีลักษณะในการทำที่เหมือนกับ Trasnsforming Model แรกแต่เนื่องจากภาพที่ใช้ Train ไม่เหมือนกับ Model แรก ทำให้ต้องมีการคำนวณค่า Mean และ Std ใหม่เพื่้อใช้ในการ Normalize รูปของ Model ที่ 2 โดยเฉพาะ"
   ]
  },
  {
   "cell_type": "code",
   "execution_count": 136,
   "id": "5a17e81e-fbdc-41cb-90b7-5e97aab1cfa9",
   "metadata": {},
   "outputs": [
    {
     "name": "stdout",
     "output_type": "stream",
     "text": [
      "Calculated Mean: tensor([0.5384, 0.5618, 0.4513])\n",
      "Calculated Std: tensor([0.2105, 0.2051, 0.2096])\n"
     ]
    }
   ],
   "source": [
    "#การคำนวณค่าNormalization\n",
    "# Step 1: Calculate mean and standard deviation\n",
    "initial_transform = transforms.Compose([\n",
    "    transforms.Resize((224, 224)),\n",
    "    transforms.ToTensor()\n",
    "])\n",
    "\n",
    "train_data = datasets.ImageFolder(root=\"/Users/nut/Documents/AiDurian/data2/train\", transform=initial_transform)\n",
    "train_dataloader = DataLoader(train_data, batch_size=32, shuffle=True)\n",
    "\n",
    "# Initialize mean and std\n",
    "mean2 = 0.0\n",
    "std2 = 0.0\n",
    "total_images2 = 0\n",
    "\n",
    "# Calculate mean and std for training data\n",
    "for images, _ in train_dataloader:\n",
    "    batch_samples = images.size(0)  # Number of images in the batch\n",
    "    images = images.view(batch_samples, images.size(1), -1)  # Reshape to (batch, channels, -1)\n",
    "    mean2 += images.mean(2).sum(0)  # Sum over all pixels in the batch\n",
    "    std2 += images.std(2).sum(0)  # Sum over all pixels in the batch\n",
    "    total_images2 += batch_samples\n",
    "\n",
    "mean2 /= total_images2  # Final mean\n",
    "std2 /= total_images2  # Final std\n",
    "\n",
    "print(f\"Calculated Mean: {mean2}\")\n",
    "print(f\"Calculated Std: {std2}\")"
   ]
  },
  {
   "cell_type": "code",
   "execution_count": 137,
   "id": "a7d51f32-6139-4fb1-979d-076a25a804a6",
   "metadata": {},
   "outputs": [],
   "source": [
    "data_transform = transforms.Compose([\n",
    "    transforms.RandomHorizontalFlip(p=0.5),\n",
    "    transforms.RandomVerticalFlip(p=0.5),\n",
    "    transforms.RandomRotation(30),\n",
    "    transforms.Resize((224, 224)),\n",
    "    transforms.CenterCrop((180,120)),\n",
    "    transforms.ToTensor(),\n",
    "    transforms.Normalize(mean=(mean2[0].item(), mean2[1].item(), mean2[2].item()),\n",
    "                         std=(std2[0].item(), std2[1].item(), std2[2].item()))\n",
    "])"
   ]
  },
  {
   "cell_type": "markdown",
   "id": "561d5697-7410-46fc-884d-56d3b5b19b83",
   "metadata": {},
   "source": [
    "### Loading image to Dataset\n",
    "นำข้อมูลที่แยกเป็น Folder แล้วมาทำเป็น Dataset"
   ]
  },
  {
   "cell_type": "code",
   "execution_count": 138,
   "id": "40ffbdcc-1597-40e9-b4a1-8a2243f9f11e",
   "metadata": {},
   "outputs": [
    {
     "name": "stdout",
     "output_type": "stream",
     "text": [
      "Train data:\n",
      "Dataset ImageFolder\n",
      "    Number of datapoints: 2400\n",
      "    Root location: data2/train\n",
      "    StandardTransform\n",
      "Transform: Compose(\n",
      "               RandomHorizontalFlip(p=0.5)\n",
      "               RandomVerticalFlip(p=0.5)\n",
      "               RandomRotation(degrees=[-30.0, 30.0], interpolation=nearest, expand=False, fill=0)\n",
      "               Resize(size=(224, 224), interpolation=bilinear, max_size=None, antialias=True)\n",
      "               CenterCrop(size=(180, 120))\n",
      "               ToTensor()\n",
      "               Normalize(mean=(0.538438618183136, 0.5618433952331543, 0.4512849450111389), std=(0.21048930287361145, 0.20507113635540009, 0.20963750779628754))\n",
      "           )\n",
      "Test data:\n",
      "Dataset ImageFolder\n",
      "    Number of datapoints: 1045\n",
      "    Root location: data2/test\n",
      "    StandardTransform\n",
      "Transform: Compose(\n",
      "               RandomHorizontalFlip(p=0.5)\n",
      "               RandomVerticalFlip(p=0.5)\n",
      "               RandomRotation(degrees=[-30.0, 30.0], interpolation=nearest, expand=False, fill=0)\n",
      "               Resize(size=(224, 224), interpolation=bilinear, max_size=None, antialias=True)\n",
      "               CenterCrop(size=(180, 120))\n",
      "               ToTensor()\n",
      "               Normalize(mean=(0.538438618183136, 0.5618433952331543, 0.4512849450111389), std=(0.21048930287361145, 0.20507113635540009, 0.20963750779628754))\n",
      "           )\n"
     ]
    }
   ],
   "source": [
    "train_data = datasets.ImageFolder(root=data_path / \"train\",\n",
    "                                  transform=data_transform,\n",
    "                                  target_transform=None)\n",
    "\n",
    "test_data = datasets.ImageFolder(root=data_path / \"test\",\n",
    "                                 transform=data_transform,\n",
    "                                 target_transform=None)\n",
    "\n",
    "print(f\"Train data:\\n{train_data}\\nTest data:\\n{test_data}\")"
   ]
  },
  {
   "cell_type": "markdown",
   "id": "04d1771e-6e0f-45a0-ba10-8b8b7bc118c6",
   "metadata": {},
   "source": [
    "### Turn Data into Dataloader\n",
    "แปลง Dataset เป็น DataLoader เพื่อแบ่งรอบข้อมูลภาพที่นำเอาเข้าไป Train"
   ]
  },
  {
   "cell_type": "code",
   "execution_count": 139,
   "id": "7ce5ebbf-fe13-4756-b03c-ec7a326c1614",
   "metadata": {},
   "outputs": [
    {
     "name": "stdout",
     "output_type": "stream",
     "text": [
      "train_dataloader:75,test_dataloader:33\n",
      "train_data:2400,test_data:1045\n"
     ]
    }
   ],
   "source": [
    "BATCH_SIZE = 32\n",
    "train_dataloader = DataLoader(dataset=train_data,\n",
    "                              batch_size=BATCH_SIZE,\n",
    "                              num_workers=1,\n",
    "                              shuffle=True)\n",
    "\n",
    "test_dataloader = DataLoader(dataset=test_data,\n",
    "                             batch_size=BATCH_SIZE,\n",
    "                             num_workers=1,\n",
    "                             shuffle=False)\n",
    "\n",
    "print(f\"train_dataloader:{len(train_dataloader)},test_dataloader:{len(test_dataloader)}\")\n",
    "print(f\"train_data:{len(train_data)},test_data:{len(test_data)}\")"
   ]
  },
  {
   "cell_type": "markdown",
   "id": "24cfea69-8b76-4e09-baee-282188599b0c",
   "metadata": {},
   "source": [
    "## 6.2 Train Model"
   ]
  },
  {
   "cell_type": "markdown",
   "id": "6d805b4a-d1d4-4c55-b641-4694f8dcb765",
   "metadata": {},
   "source": [
    "### Model Transfer Learning (Efficient Net)\n",
    "เป็น Model แบบเดียวกับที่ใช้ Train Model วิเคราะห์โรคทางใบทุเรียน มีข้อแตกต่างตรงที่ Output layer ของ Model จะออะมาแค่ 1 Unit ซึ่ง Unit นี้จะทำการส่งค่าที่ทำนายออกมาในรูปแบบLogit(ค่าตัวเลขดิบ) และวิธีการที่จะทำให้ทราบถึงความน่าจะเป็นที่ถูกPredictออกมาคือการใช้  Sigmoid Function และข้อแตกต่างอีกข้อคือ Loss Function ที่ใช้ในการ Train Model คือ Binary Cross Entripy Loss เป็นการคำนวณ Loss Function ที่เหมาะกับการทำ Binary Classification "
   ]
  },
  {
   "cell_type": "code",
   "execution_count": 140,
   "id": "d435ac97-d59e-47c8-8e06-9aff328c87ec",
   "metadata": {},
   "outputs": [],
   "source": [
    "class TransferLearningModel(nn.Module):\n",
    "    def __init__(self, num_classes):\n",
    "        super(TransferLearningModel, self).__init__()\n",
    "        self.model = models.efficientnet_b0(weights=models.EfficientNet_B0_Weights.DEFAULT)\n",
    "\n",
    "        # Replace the classifier to match the number of classes\n",
    "        in_features = self.model.classifier[1].in_features  # Get the input features of the classifier layer\n",
    "        self.model.classifier[1] = nn.Linear(in_features, num_classes)  # Update to match num_classes\n",
    "\n",
    "    def forward(self, x):\n",
    "        return self.model(x)"
   ]
  },
  {
   "cell_type": "code",
   "execution_count": 143,
   "id": "46ea8230-6b4b-4f4f-b06e-5dc544f76f61",
   "metadata": {},
   "outputs": [
    {
     "name": "stderr",
     "output_type": "stream",
     "text": [
      " 20%|████████▊                                   | 1/5 [12:31<50:05, 751.28s/it]"
     ]
    },
    {
     "name": "stdout",
     "output_type": "stream",
     "text": [
      "Epoch 1/5, Loss: 0.1953, Accuracy: 0.9379\n",
      "F1 Score (Weighted): 0.9923\n",
      "Test Accuracy: 0.9923\n"
     ]
    },
    {
     "name": "stderr",
     "output_type": "stream",
     "text": [
      " 40%|████████████████▍                        | 2/5 [38:28<1:01:15, 1225.12s/it]"
     ]
    },
    {
     "name": "stdout",
     "output_type": "stream",
     "text": [
      "Epoch 2/5, Loss: 0.0930, Accuracy: 0.9704\n",
      "F1 Score (Weighted): 0.9866\n",
      "Test Accuracy: 0.9866\n"
     ]
    },
    {
     "name": "stderr",
     "output_type": "stream",
     "text": [
      " 60%|█████████████████████████▊                 | 3/5 [51:18<33:54, 1017.49s/it]"
     ]
    },
    {
     "name": "stdout",
     "output_type": "stream",
     "text": [
      "Epoch 3/5, Loss: 0.0512, Accuracy: 0.9846\n",
      "F1 Score (Weighted): 0.9885\n",
      "Test Accuracy: 0.9885\n"
     ]
    },
    {
     "name": "stderr",
     "output_type": "stream",
     "text": [
      " 80%|█████████████████████████████████▌        | 4/5 [1:03:21<15:01, 901.04s/it]"
     ]
    },
    {
     "name": "stdout",
     "output_type": "stream",
     "text": [
      "Epoch 4/5, Loss: 0.0794, Accuracy: 0.9688\n",
      "F1 Score (Weighted): 0.9384\n",
      "Test Accuracy: 0.9388\n"
     ]
    },
    {
     "name": "stderr",
     "output_type": "stream",
     "text": [
      "100%|██████████████████████████████████████████| 5/5 [1:15:31<00:00, 906.34s/it]"
     ]
    },
    {
     "name": "stdout",
     "output_type": "stream",
     "text": [
      "Epoch 5/5, Loss: 0.0708, Accuracy: 0.9754\n",
      "F1 Score (Weighted): 0.9952\n",
      "Test Accuracy: 0.9952\n"
     ]
    },
    {
     "name": "stderr",
     "output_type": "stream",
     "text": [
      "\n"
     ]
    }
   ],
   "source": [
    "# Initialize model\n",
    "model_Binary = TransferLearningModel(num_classes=1)\n",
    "\n",
    "# Hyperparameters\n",
    "learning_rate = 0.01\n",
    "num_epochs = 5\n",
    "\n",
    "# Move model to GPU if available\n",
    "device = torch.device('cuda' if torch.cuda.is_available() else 'cpu')\n",
    "model_Binary.to(device)\n",
    "\n",
    "# Initialize loss function and optimizer for binary classification\n",
    "criterion = nn.BCEWithLogitsLoss()  # Use this for binary classification\n",
    "optimizer = torch.optim.Adam(model_Binary.parameters(), lr=learning_rate)\n",
    "train_loss_list_Binary=[]\n",
    "\n",
    "# Training loop\n",
    "for epoch in tqdm(range(num_epochs)):\n",
    "    model_Binary.train()\n",
    "    running_loss = 0.0\n",
    "    correct_preds = 0\n",
    "    total_preds = 0\n",
    "\n",
    "    for images, labels in train_dataloader:\n",
    "        images, labels = images.to(device), labels.to(device)\n",
    "\n",
    "        # Forward pass\n",
    "        outputs = model_Binary(images)\n",
    "        loss = criterion(outputs.squeeze(), labels.float())  # Squeeze outputs for correct shape\n",
    "\n",
    "        # Backward pass and optimization\n",
    "        optimizer.zero_grad()\n",
    "        loss.backward()\n",
    "        optimizer.step()\n",
    "\n",
    "        running_loss += loss.item() * images.size(0)\n",
    "        predicted = (torch.sigmoid(outputs) > 0.5).float()  # Convert logits to predictions\n",
    "        total_preds += labels.size(0)\n",
    "        correct_preds += (predicted.squeeze() == labels).sum().item()\n",
    "\n",
    "    epoch_loss = running_loss / len(train_data)\n",
    "    epoch_accuracy = correct_preds / total_preds\n",
    "    train_loss_list_Binary.append(epoch_loss)\n",
    "\n",
    "    # Evaluation\n",
    "    model_Binary.eval()\n",
    "    all_labels_Binary = []\n",
    "    all_preds_Binary = []\n",
    "\n",
    "    with torch.inference_mode():\n",
    "        for images, labels in test_dataloader:\n",
    "            images, labels = images.to(device), labels.to(device)\n",
    "            outputs = model_Binary(images)\n",
    "            predicted = (torch.sigmoid(outputs) > 0.5).float()  # Convert logits to predictions\n",
    "            all_labels_Binary.extend(labels.cpu().numpy())\n",
    "            all_preds_Binary.extend(predicted.cpu().numpy())\n",
    "\n",
    "    accuracy = accuracy_score(all_labels_Binary, all_preds_Binary)\n",
    "    f1 = f1_score(all_labels_Binary, all_preds_Binary, average='weighted')\n",
    "    cm = confusion_matrix(all_labels_Binary, all_preds_Binary)\n",
    "    \n",
    "    # Print metrics\n",
    "    print(f'Epoch {epoch+1}/{num_epochs}, Loss: {epoch_loss:.4f}, Accuracy: {epoch_accuracy:.4f}')\n",
    "    print(f'F1 Score (Weighted): {f1:.4f}')\n",
    "    print(f'Test Accuracy: {accuracy:.4f}')"
   ]
  },
  {
   "cell_type": "markdown",
   "id": "198ed7ef-6291-4484-a351-ce3780ddaaa0",
   "metadata": {},
   "source": [
    "## 6.4 Test Model"
   ]
  },
  {
   "cell_type": "code",
   "execution_count": 146,
   "id": "ab0ae6af-3eca-42c2-8b68-9c737b8f71ca",
   "metadata": {},
   "outputs": [],
   "source": [
    "model_Binary.eval()\n",
    "all_labels_Binary = []\n",
    "all_preds_Binary = []\n",
    "\n",
    "with torch.inference_mode():\n",
    "    for images, labels in test_dataloader:\n",
    "        images, labels = images.to(device), labels.to(device)\n",
    "        outputs = model_Binary(images)\n",
    "        predicted = (torch.sigmoid(outputs) > 0.5).float()  # Convert logits to predictions\n",
    "        all_labels_Binary.extend(labels.cpu().numpy())\n",
    "        all_preds_Binary.extend(predicted.cpu().numpy())"
   ]
  },
  {
   "cell_type": "markdown",
   "id": "1110f9f9-b549-46d4-9803-e100a4f2d878",
   "metadata": {},
   "source": [
    "### Evaluation Model\n"
   ]
  },
  {
   "cell_type": "markdown",
   "id": "09203f98-dad8-4169-b1e2-ff9e167474c2",
   "metadata": {},
   "source": [
    "#### Accuracy"
   ]
  },
  {
   "cell_type": "code",
   "execution_count": 148,
   "id": "0e51a2a1-4ad0-4e65-a8bd-ea4c96615c8f",
   "metadata": {},
   "outputs": [
    {
     "name": "stdout",
     "output_type": "stream",
     "text": [
      "Accuracy: 0.9962\n"
     ]
    }
   ],
   "source": [
    "accuracy = accuracy_score(all_labels_Binary, all_preds_Binary)\n",
    "print(f'Accuracy: {accuracy:.4f}')"
   ]
  },
  {
   "cell_type": "markdown",
   "id": "50e1ab53-ec18-4f5f-8527-4a8f8a342ee0",
   "metadata": {},
   "source": [
    "#### Precision"
   ]
  },
  {
   "cell_type": "code",
   "execution_count": 147,
   "id": "3df0b3f6-5e74-4c2e-bced-0726ad60f0ad",
   "metadata": {},
   "outputs": [
    {
     "name": "stdout",
     "output_type": "stream",
     "text": [
      "Precision: [0.99640288 0.99591002]\n"
     ]
    }
   ],
   "source": [
    "precision = precision_score(np.array(all_labels_Binary).astype(int),np.array(all_preds_Binary).astype(int),average=None)\n",
    "print(f'Precision: {precision}')"
   ]
  },
  {
   "cell_type": "markdown",
   "id": "d5d160ce-65ee-46c2-ab0a-955e3e1b7eec",
   "metadata": {},
   "source": [
    "#### Recall"
   ]
  },
  {
   "cell_type": "code",
   "execution_count": 149,
   "id": "4b4e794e-3cc1-4480-86c0-0f031fcdb12f",
   "metadata": {},
   "outputs": [
    {
     "name": "stdout",
     "output_type": "stream",
     "text": [
      "Recall: [0.99640288 0.99591002]\n"
     ]
    }
   ],
   "source": [
    "recall = recall_score(np.array(all_labels_Binary).astype(int),np.array(all_preds_Binary).astype(int),average=None)\n",
    "print(f'Recall: {recall}')"
   ]
  },
  {
   "cell_type": "markdown",
   "id": "b66a036b-2f5c-4936-84be-e0a16c98d35f",
   "metadata": {},
   "source": [
    "#### F1 Score"
   ]
  },
  {
   "cell_type": "code",
   "execution_count": 150,
   "id": "d07b0c7b-4596-487a-89dd-15db62870930",
   "metadata": {},
   "outputs": [
    {
     "name": "stdout",
     "output_type": "stream",
     "text": [
      "F1 Score (Weighted): 0.9962\n"
     ]
    }
   ],
   "source": [
    "f1 = f1_score(all_labels_Binary, all_preds_Binary, average='weighted')\n",
    "print(f'F1 Score (Weighted): {f1:.4f}')"
   ]
  },
  {
   "cell_type": "markdown",
   "id": "93009c04-9e3e-48ac-874f-2554d3e52851",
   "metadata": {},
   "source": [
    "#### Confusion Metric"
   ]
  },
  {
   "cell_type": "code",
   "execution_count": 159,
   "id": "3bc838cf-6257-4c9d-84e2-c1019fe24053",
   "metadata": {},
   "outputs": [
    {
     "data": {
      "image/png": "[encoded data removed]",
      "text/plain": [
       "<Figure size 1000x700 with 2 Axes>"
      ]
     },
     "metadata": {},
     "output_type": "display_data"
    }
   ],
   "source": [
    "cm = confusion_matrix(all_labels_Binary, all_preds_Binary, labels=[0,1])\n",
    "    \n",
    "# Plot the confusion matrix\n",
    "plt.figure(figsize=(10, 7))\n",
    "sns.heatmap(cm, annot=True, fmt='d', cmap='Greens', xticklabels=[\"Not Durian Leaf\", \"Durian Leaf\"], yticklabels=[\"Not Durian Leaf\", \"Durian Leaf\"])\n",
    "plt.xlabel('Predicted')\n",
    "plt.ylabel('True')\n",
    "plt.title('Confusion Matrix')\n",
    "plt.show()"
   ]
  },
  {
   "cell_type": "markdown",
   "id": "0b7e94e2-6775-4aef-b6a5-d035569f32e5",
   "metadata": {},
   "source": [
    "#### Training Loss curve"
   ]
  },
  {
   "cell_type": "code",
   "execution_count": 160,
   "id": "ce04967f-232e-409f-8955-fddb80a497c6",
   "metadata": {},
   "outputs": [
    {
     "data": {
      "image/png": "[encoded data removed]",
      "text/plain": [
       "<Figure size 640x480 with 1 Axes>"
      ]
     },
     "metadata": {},
     "output_type": "display_data"
    }
   ],
   "source": [
    "# End of training: Plot loss over epochs\n",
    "plt.plot(train_loss_list_Binary, label='Train Loss')\n",
    "plt.title('Training Loss over Epochs')\n",
    "plt.xlabel('Epoch')\n",
    "plt.ylabel('Loss')\n",
    "plt.legend()\n",
    "__plt.show()"
   ]
  },
  {
   "cell_type": "markdown",
   "id": "a03f3cb1-6f44-4254-ba2b-24094bf31945",
   "metadata": {},
   "source": [
    "#### Summary model 2\n",
    "จากผลลัพธ์ข้างต้นจะเห็นได้ว่าการ Train Model ตัวที่ 2 ที่มีการใช้ Model Transfer Learning เหมือนการ Prediction โรคในใบทุเรียน จะมีค่า Loss ที่ต่ำตั้งแต่รอบการเทรนแรกๆนั่นแสดงให้เห็นว่าการ Train Model ว่าเป็นใบทุเรียนหรือไม่อาจไม่ได้มีความซับซ้อนเท่ากับโรคที่อยู่ในใบทุเรียน นอกจากนี้หลังจากการประเมิน Model ด้วยฟังค์ชั่นต่างๆจะเห็นได้ว่าค่าความน่าจะเป็นต่างๆมีค่าที่สูงมาก"
   ]
  }
 ],
 "metadata": {
  "kernelspec": {
   "display_name": "Python 3 (ipykernel)",
   "language": "python",
   "name": "python3"
  },
  "language_info": {
   "codemirror_mode": {
    "name": "ipython",
    "version": 3
   },
   "file_extension": ".py",
   "mimetype": "text/x-python",
   "name": "python",
   "nbconvert_exporter": "python",
   "pygments_lexer": "ipython3",
   "version": "3.10.10"
  }
 },
 "nbformat": 4,
 "nbformat_minor": 5
}
